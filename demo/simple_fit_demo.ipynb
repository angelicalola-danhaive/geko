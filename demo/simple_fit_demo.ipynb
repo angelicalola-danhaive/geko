{
 "cells": [
  {
   "cell_type": "markdown",
   "metadata": {},
   "source": [
    "# Geko Fitting Demo: Simplified Usage\n",
    "\n",
    "This notebook demonstrates how to use `geko` to fit JWST grism spectroscopy data **without needing a YAML config file**.\n",
    "\n",
    "## Overview\n",
    "\n",
    "`geko` is a Python package for analyzing JWST grism spectroscopy and morphology data. It uses:\n",
    "- **JAX** for accelerated numerical computation\n",
    "- **Numpyro** for Bayesian inference via MCMC\n",
    "- **Kinematic models** to fit galaxy rotation curves\n",
    "\n",
    "## Required Data Structure\n",
    "\n",
    "**IMPORTANT**: All data files should be placed in a single base directory (specified by `save_runs_path`). By default, this is `fitting_results/`, but you can use any directory.\n",
    "\n",
    "### Directory Structure\n",
    "\n",
    "```\n",
    "<save_runs_path>/                     # Base directory (e.g., 'fitting_results/' or 'data/')\n",
    "├── <output_name>/                    # Subfolder for your galaxy\n",
    "│   └── spec_2d_*_ID<ID>_comb.fits    # 2D grism spectrum (auto-located based on field)\n",
    "├── morph_fits/                       # Morphology results directory\n",
    "│   └── summary_<ID>_image_F150W_svi.cat  # Sersic fits (F150W or F182M)\n",
    "├── psfs/                             # PSF directory\n",
    "│   ├── mpsf_jw018950.gn.f444w.fits   # PSF for GOODS-N\n",
    "│   ├── mpsf_jw035770.f356w.fits      # PSF for GOODS-N-CONGRESS\n",
    "│   └── mpsf_jw018950.gs.f444w.fits   # PSF for GOODS-S-FRESCO\n",
    "└── <master_catalog>.cat              # Master catalog (can be anywhere, specified separately)\n",
    "```\n",
    "\n",
    "**Example**: If you set `save_runs_path='my_data/'` and `source_id=12345`, the code will look for:\n",
    "- `my_data/my_galaxy/spec_2d_GDN_F444W_ID12345_comb.fits` (for GOODS-N)\n",
    "- `my_data/morph_fits/summary_12345_image_F150W_svi.cat`\n",
    "- `my_data/psfs/mpsf_jw018950.gn.f444w.fits`\n",
    "\n",
    "**Note**: No config file needed! All parameters are set directly in Python.\n",
    "\n",
    "### Required Files\n",
    "\n",
    "#### 1. Master Catalog File\n",
    "\n",
    "Path specified as `master_cat` parameter (can be anywhere on your system).\n",
    "\n",
    "An ASCII table with columns:\n",
    "- `ID`: Source identifier (must match your `source_id`)\n",
    "- `zspec`: Spectroscopic redshift\n",
    "- `<line>_lambda`: Observed wavelength of emission line (e.g., `6562_lambda` for H-alpha)\n",
    "- `fit_flux_cgs`: Log of integrated emission line flux (log erg/s/cm²)\n",
    "- `fit_flux_cgs_e`: Error on log flux\n",
    "\n",
    "#### 2. Grism Spectrum FITS File\n",
    "\n",
    "Located at: `<save_runs_path>/<output_name>/spec_2d_*_ID<source_id>_comb.fits`\n",
    "\n",
    "File naming depends on the field:\n",
    "- **GOODS-N**: `spec_2d_GDN_F444W_ID<source_id>_comb.fits`\n",
    "- **GOODS-N-CONGRESS**: `spec_2d_GDN_F356W_ID<source_id>_comb.fits`\n",
    "- **GOODS-S-FRESCO**: `spec_2d_FRESCO_F444W_ID<source_id>_comb.fits`\n",
    "\n",
    "The FITS file should contain:\n",
    "- Extension with 2D spectrum data\n",
    "- Extension with error/uncertainty map\n",
    "- WCS information for wavelength calibration\n",
    "\n",
    "#### 3. PySersic Morphology File\n",
    "\n",
    "Located at: `<save_runs_path>/morph_fits/summary_<source_id>_image_F150W_svi.cat` (or F182M)\n",
    "\n",
    "ASCII catalog from PySersic fits containing columns:\n",
    "- Sersic profile parameters (n, r_eff, etc.)\n",
    "- Position angle\n",
    "- Axis ratio\n",
    "- Centroid positions\n",
    "\n",
    "#### 4. PSF Files\n",
    "\n",
    "Located at: `<save_runs_path>/psfs/mpsf_*.fits`\n",
    "\n",
    "Field-specific PSF FITS files (automatically selected based on field parameter)"
   ]
  },
  {
   "cell_type": "markdown",
   "metadata": {},
   "source": [
    "## Running the Fit\n",
    "\n",
    "Once you have prepared all required files, running the fit is straightforward:"
   ]
  },
  {
   "cell_type": "code",
   "execution_count": 3,
   "metadata": {},
   "outputs": [
    {
     "name": "stdout",
     "output_type": "stream",
     "text": [
      "Imports successful!\n"
     ]
    }
   ],
   "source": [
    "# Import required modules\n",
    "from geko.fitting import run_geko_fit\n",
    "from geko.config import FitConfiguration\n",
    "\n",
    "# JAX configuration\n",
    "import jax\n",
    "jax.config.update('jax_enable_x64', True)\n",
    "\n",
    "print(\"Imports successful!\")"
   ]
  },
  {
   "cell_type": "markdown",
   "metadata": {},
   "source": [
    "### Basic Usage"
   ]
  },
  {
   "cell_type": "code",
   "execution_count": 10,
   "metadata": {},
   "outputs": [
    {
     "name": "stdout",
     "output_type": "stream",
     "text": [
      "Using direct parameters (no config file)\n",
      "Cont sub done\n",
      "Flipping map! (Mod B)\n",
      "(15, 15)\n",
      "Disk model created\n",
      "Disk object created\n",
      "Rotating the prior by  0.0  radians, from  2.964  radians to  2.964  radians\n",
      "Setting parametric priors:  10.175309523224001 59.206811076802936 3.342 1.297 0.18970094750436658 15.165 15.0425\n"
     ]
    },
    {
     "name": "stderr",
     "output_type": "stream",
     "text": [
      "/Users/lola/geko/geko/fitting.py:289: FutureWarning: Passing 'z' as keyword is deprecated since version 7.0 and will stop working in a future release. Pass it positionally to suppress this warning.\n",
      "  kin_model.disk.set_parametric_priors(pysersic_summary, [int_flux, int_flux_err], z_spec, wavelength, delta_wave, theta_rot = theta_rot, shape = obs_map.shape[0])\n"
     ]
    },
    {
     "name": "stdout",
     "output_type": "stream",
     "text": [
      "MCMC settings: 2 chains, 1000 samples, 500 warmup, max_tree_depth=10, target_accept=0.8\n",
      "step size:  0.001\n",
      "warmup:  500\n",
      "samples:  1000\n"
     ]
    },
    {
     "name": "stderr",
     "output_type": "stream",
     "text": [
      "/Users/lola/geko/geko/fitting.py:146: UserWarning: There are not enough devices to run parallel chains: expected 2 but got 1. Chains will be drawn sequentially. If you are running MCMC in CPU, consider using `numpyro.set_host_device_count(2)` at the beginning of your program. You can double-check how many devices are available in your system using `jax.local_device_count()`.\n",
      "  self.mcmc = MCMC(self.nuts_kernel, num_samples=num_samples,\n"
     ]
    },
    {
     "ename": "KeyboardInterrupt",
     "evalue": "",
     "output_type": "error",
     "traceback": [
      "\u001b[31m---------------------------------------------------------------------------\u001b[39m",
      "\u001b[31mKeyboardInterrupt\u001b[39m                         Traceback (most recent call last)",
      "\u001b[36mCell\u001b[39m\u001b[36m \u001b[39m\u001b[32mIn[10]\u001b[39m\u001b[32m, line 23\u001b[39m\n\u001b[32m     20\u001b[39m num_samples = \u001b[32m1000\u001b[39m                     \u001b[38;5;66;03m# Sampling iterations\u001b[39;00m\n\u001b[32m     22\u001b[39m \u001b[38;5;66;03m# Run the fit (no config file needed!)\u001b[39;00m\n\u001b[32m---> \u001b[39m\u001b[32m23\u001b[39m inference_data = \u001b[43mrun_geko_fit\u001b[49m\u001b[43m(\u001b[49m\n\u001b[32m     24\u001b[39m \u001b[43m    \u001b[49m\u001b[43moutput\u001b[49m\u001b[43m=\u001b[49m\u001b[43moutput_name\u001b[49m\u001b[43m,\u001b[49m\n\u001b[32m     25\u001b[39m \u001b[43m    \u001b[49m\u001b[43mmaster_cat\u001b[49m\u001b[43m=\u001b[49m\u001b[43mmaster_catalog\u001b[49m\u001b[43m,\u001b[49m\n\u001b[32m     26\u001b[39m \u001b[43m    \u001b[49m\u001b[43mline\u001b[49m\u001b[43m=\u001b[49m\u001b[43memission_line\u001b[49m\u001b[43m,\u001b[49m\n\u001b[32m     27\u001b[39m \u001b[43m    \u001b[49m\u001b[43mparametric\u001b[49m\u001b[43m=\u001b[49m\u001b[43mparametric\u001b[49m\u001b[43m,\u001b[49m\n\u001b[32m     28\u001b[39m \u001b[43m    \u001b[49m\u001b[43msave_runs_path\u001b[49m\u001b[43m=\u001b[49m\u001b[43msave_runs_path\u001b[49m\u001b[43m,\u001b[49m\n\u001b[32m     29\u001b[39m \u001b[43m    \u001b[49m\u001b[43mnum_chains\u001b[49m\u001b[43m=\u001b[49m\u001b[43mnum_chains\u001b[49m\u001b[43m,\u001b[49m\n\u001b[32m     30\u001b[39m \u001b[43m    \u001b[49m\u001b[43mnum_warmup\u001b[49m\u001b[43m=\u001b[49m\u001b[43mnum_warmup\u001b[49m\u001b[43m,\u001b[49m\n\u001b[32m     31\u001b[39m \u001b[43m    \u001b[49m\u001b[43mnum_samples\u001b[49m\u001b[43m=\u001b[49m\u001b[43mnum_samples\u001b[49m\u001b[43m,\u001b[49m\n\u001b[32m     32\u001b[39m \u001b[43m    \u001b[49m\u001b[43msource_id\u001b[49m\u001b[43m=\u001b[49m\u001b[43msource_id\u001b[49m\u001b[43m,\u001b[49m\u001b[43m               \u001b[49m\u001b[38;5;66;43;03m# NEW: Direct parameter\u001b[39;49;00m\n\u001b[32m     33\u001b[39m \u001b[43m    \u001b[49m\u001b[43mfield\u001b[49m\u001b[43m=\u001b[49m\u001b[43mfield\u001b[49m\u001b[43m,\u001b[49m\u001b[43m                        \u001b[49m\u001b[38;5;66;43;03m# NEW: Direct parameter\u001b[39;49;00m\n\u001b[32m     34\u001b[39m \u001b[43m    \u001b[49m\u001b[43mgrism_filter\u001b[49m\u001b[43m=\u001b[49m\u001b[43mgrism_filter\u001b[49m\u001b[43m,\u001b[49m\u001b[43m         \u001b[49m\u001b[38;5;66;43;03m# Optional\u001b[39;49;00m\n\u001b[32m     35\u001b[39m \u001b[43m    \u001b[49m\u001b[43mdelta_wave_cutoff\u001b[49m\u001b[43m=\u001b[49m\u001b[43mdelta_wave_cutoff\u001b[49m\u001b[43m,\u001b[49m\u001b[43m  \u001b[49m\u001b[38;5;66;43;03m# Optional\u001b[39;49;00m\n\u001b[32m     36\u001b[39m \u001b[43m    \u001b[49m\u001b[43mfactor\u001b[49m\u001b[43m=\u001b[49m\u001b[43mfactor\u001b[49m\u001b[43m,\u001b[49m\u001b[43m                      \u001b[49m\u001b[38;5;66;43;03m# Optional\u001b[39;49;00m\n\u001b[32m     37\u001b[39m \u001b[43m    \u001b[49m\u001b[43mwave_factor\u001b[49m\u001b[43m=\u001b[49m\u001b[43mwave_factor\u001b[49m\u001b[43m,\u001b[49m\u001b[43m            \u001b[49m\u001b[38;5;66;43;03m# Optional\u001b[39;49;00m\n\u001b[32m     38\u001b[39m \u001b[43m    \u001b[49m\u001b[43mmodel_name\u001b[49m\u001b[43m=\u001b[49m\u001b[43mmodel_name\u001b[49m\u001b[43m,\u001b[49m\u001b[43m              \u001b[49m\u001b[38;5;66;43;03m# Optional\u001b[39;49;00m\n\u001b[32m     39\u001b[39m \u001b[43m    \u001b[49m\u001b[43mconfig\u001b[49m\u001b[43m=\u001b[49m\u001b[38;5;28;43;01mNone\u001b[39;49;00m\u001b[43m                         \u001b[49m\u001b[38;5;66;43;03m# Optional: custom configuration\u001b[39;49;00m\n\u001b[32m     40\u001b[39m \u001b[43m)\u001b[49m\n",
      "\u001b[36mFile \u001b[39m\u001b[32m~/geko/geko/fitting.py:313\u001b[39m, in \u001b[36mrun_geko_fit\u001b[39m\u001b[34m(output, master_cat, line, parametric, save_runs_path, num_chains, num_warmup, num_samples, source_id, field, grism_filter, delta_wave_cutoff, factor, wave_factor, model_name, config)\u001b[39m\n\u001b[32m    310\u001b[39m prior = prior_predictive(rng_key, grism_object = run_fit.grism_object, obs_map = run_fit.obs_map, obs_error = run_fit.obs_error)\n\u001b[32m    312\u001b[39m \u001b[38;5;66;03m# Run inference - config parameters will be used automatically if provided\u001b[39;00m\n\u001b[32m--> \u001b[39m\u001b[32m313\u001b[39m \u001b[43mrun_fit\u001b[49m\u001b[43m.\u001b[49m\u001b[43mrun_inference\u001b[49m\u001b[43m(\u001b[49m\u001b[43mnum_samples\u001b[49m\u001b[43m=\u001b[49m\u001b[43mnum_samples\u001b[49m\u001b[43m,\u001b[49m\u001b[43m \u001b[49m\u001b[43mnum_warmup\u001b[49m\u001b[43m=\u001b[49m\u001b[43mnum_warmup\u001b[49m\u001b[43m,\u001b[49m\u001b[43m \u001b[49m\u001b[43mhigh_res\u001b[49m\u001b[43m=\u001b[49m\u001b[38;5;28;43;01mTrue\u001b[39;49;00m\u001b[43m,\u001b[49m\n\u001b[32m    314\u001b[39m \u001b[43m\t                      \u001b[49m\u001b[43mmedian\u001b[49m\u001b[43m=\u001b[49m\u001b[38;5;28;43;01mTrue\u001b[39;49;00m\u001b[43m,\u001b[49m\u001b[43m \u001b[49m\u001b[43mstep_size\u001b[49m\u001b[43m=\u001b[49m\u001b[32;43m0.001\u001b[39;49m\u001b[43m,\u001b[49m\u001b[43m \u001b[49m\u001b[43madapt_step_size\u001b[49m\u001b[43m=\u001b[49m\u001b[38;5;28;43;01mTrue\u001b[39;49;00m\u001b[43m,\u001b[49m\u001b[43m \u001b[49m\u001b[43mtarget_accept_prob\u001b[49m\u001b[43m=\u001b[49m\u001b[32;43m0.8\u001b[39;49m\u001b[43m,\u001b[49m\u001b[43m  \u001b[49m\u001b[43mnum_chains\u001b[49m\u001b[43m=\u001b[49m\u001b[43mnum_chains\u001b[49m\u001b[43m)\u001b[49m\n\u001b[32m    316\u001b[39m inf_data = az.from_numpyro(run_fit.mcmc, prior=prior)\n\u001b[32m    318\u001b[39m \u001b[38;5;66;03m# Save results\u001b[39;00m\n",
      "\u001b[36mFile \u001b[39m\u001b[32m~/geko/geko/fitting.py:152\u001b[39m, in \u001b[36mFit_Numpyro.run_inference\u001b[39m\u001b[34m(self, num_samples, num_warmup, high_res, median, step_size, adapt_step_size, target_accept_prob, max_tree_depth, num_chains, init_vals)\u001b[39m\n\u001b[32m    148\u001b[39m \u001b[38;5;28mself\u001b[39m.rng_key = random.PRNGKey(\u001b[32m100\u001b[39m)\n\u001b[32m    150\u001b[39m new_mask = \u001b[38;5;28mself\u001b[39m.create_mask()\n\u001b[32m--> \u001b[39m\u001b[32m152\u001b[39m \u001b[38;5;28;43mself\u001b[39;49m\u001b[43m.\u001b[49m\u001b[43mmcmc\u001b[49m\u001b[43m.\u001b[49m\u001b[43mrun\u001b[49m\u001b[43m(\u001b[49m\u001b[38;5;28;43mself\u001b[39;49m\u001b[43m.\u001b[49m\u001b[43mrng_key\u001b[49m\u001b[43m,\u001b[49m\u001b[43m \u001b[49m\u001b[43mgrism_object\u001b[49m\u001b[43m \u001b[49m\u001b[43m=\u001b[49m\u001b[43m \u001b[49m\u001b[38;5;28;43mself\u001b[39;49m\u001b[43m.\u001b[49m\u001b[43mgrism_object\u001b[49m\u001b[43m,\u001b[49m\u001b[43m \u001b[49m\u001b[43mobs_map\u001b[49m\u001b[43m \u001b[49m\u001b[43m=\u001b[49m\u001b[43m \u001b[49m\u001b[38;5;28;43mself\u001b[39;49m\u001b[43m.\u001b[49m\u001b[43mobs_map\u001b[49m\u001b[43m,\u001b[49m\u001b[43m \u001b[49m\u001b[43mobs_error\u001b[49m\u001b[43m \u001b[49m\u001b[43m=\u001b[49m\u001b[43m \u001b[49m\u001b[38;5;28;43mself\u001b[39;49m\u001b[43m.\u001b[49m\u001b[43mobs_error\u001b[49m\u001b[43m,\u001b[49m\u001b[43m \u001b[49m\u001b[43mmask\u001b[49m\u001b[43m \u001b[49m\u001b[43m=\u001b[49m\u001b[43mnew_mask\u001b[49m\u001b[43m)\u001b[49m \u001b[38;5;66;03m#, extra_fields=(\"potential_energy\", \"accept_prob\"))\u001b[39;00m\n\u001b[32m    154\u001b[39m \u001b[38;5;28mprint\u001b[39m(\u001b[33m'\u001b[39m\u001b[33mdone\u001b[39m\u001b[33m'\u001b[39m)\n\u001b[32m    156\u001b[39m \u001b[38;5;28mself\u001b[39m.mcmc.print_summary()\n",
      "\u001b[36mFile \u001b[39m\u001b[32m~/opt_arm/anaconda3/envs/geko_env/lib/python3.11/site-packages/numpyro/infer/mcmc.py:706\u001b[39m, in \u001b[36mMCMC.run\u001b[39m\u001b[34m(self, rng_key, extra_fields, init_params, *args, **kwargs)\u001b[39m\n\u001b[32m    704\u001b[39m \u001b[38;5;28;01melse\u001b[39;00m:\n\u001b[32m    705\u001b[39m     \u001b[38;5;28;01mif\u001b[39;00m \u001b[38;5;28mself\u001b[39m.chain_method == \u001b[33m\"\u001b[39m\u001b[33msequential\u001b[39m\u001b[33m\"\u001b[39m:\n\u001b[32m--> \u001b[39m\u001b[32m706\u001b[39m         states, last_state = \u001b[43m_laxmap\u001b[49m\u001b[43m(\u001b[49m\u001b[43mpartial_map_fn\u001b[49m\u001b[43m,\u001b[49m\u001b[43m \u001b[49m\u001b[43mmap_args\u001b[49m\u001b[43m)\u001b[49m\n\u001b[32m    707\u001b[39m     \u001b[38;5;28;01melif\u001b[39;00m \u001b[38;5;28mself\u001b[39m.chain_method == \u001b[33m\"\u001b[39m\u001b[33mparallel\u001b[39m\u001b[33m\"\u001b[39m:\n\u001b[32m    708\u001b[39m         states, last_state = pmap(partial_map_fn)(map_args)\n",
      "\u001b[36mFile \u001b[39m\u001b[32m~/opt_arm/anaconda3/envs/geko_env/lib/python3.11/site-packages/numpyro/infer/mcmc.py:177\u001b[39m, in \u001b[36m_laxmap\u001b[39m\u001b[34m(f, xs)\u001b[39m\n\u001b[32m    175\u001b[39m \u001b[38;5;28;01mfor\u001b[39;00m i \u001b[38;5;129;01min\u001b[39;00m \u001b[38;5;28mrange\u001b[39m(n):\n\u001b[32m    176\u001b[39m     x = jit(_get_value_from_index)(xs, i)\n\u001b[32m--> \u001b[39m\u001b[32m177\u001b[39m     ys.append(\u001b[43mf\u001b[49m\u001b[43m(\u001b[49m\u001b[43mx\u001b[49m\u001b[43m)\u001b[49m)\n\u001b[32m    179\u001b[39m \u001b[38;5;28;01mreturn\u001b[39;00m jax.tree.map(\u001b[38;5;28;01mlambda\u001b[39;00m *args: jnp.stack(args), *ys)\n",
      "\u001b[36mFile \u001b[39m\u001b[32m~/opt_arm/anaconda3/envs/geko_env/lib/python3.11/site-packages/numpyro/infer/mcmc.py:465\u001b[39m, in \u001b[36mMCMC._single_chain_mcmc\u001b[39m\u001b[34m(self, init, args, kwargs, collect_fields, remove_sites)\u001b[39m\n\u001b[32m    463\u001b[39m \u001b[38;5;66;03m# Check if _sample_fn is None, then we need to initialize the sampler.\u001b[39;00m\n\u001b[32m    464\u001b[39m \u001b[38;5;28;01mif\u001b[39;00m init_state \u001b[38;5;129;01mis\u001b[39;00m \u001b[38;5;28;01mNone\u001b[39;00m \u001b[38;5;129;01mor\u001b[39;00m (\u001b[38;5;28mgetattr\u001b[39m(\u001b[38;5;28mself\u001b[39m.sampler, \u001b[33m\"\u001b[39m\u001b[33m_sample_fn\u001b[39m\u001b[33m\"\u001b[39m, \u001b[38;5;28;01mNone\u001b[39;00m) \u001b[38;5;129;01mis\u001b[39;00m \u001b[38;5;28;01mNone\u001b[39;00m):\n\u001b[32m--> \u001b[39m\u001b[32m465\u001b[39m     new_init_state = \u001b[38;5;28;43mself\u001b[39;49m\u001b[43m.\u001b[49m\u001b[43msampler\u001b[49m\u001b[43m.\u001b[49m\u001b[43minit\u001b[49m\u001b[43m(\u001b[49m\n\u001b[32m    466\u001b[39m \u001b[43m        \u001b[49m\u001b[43mrng_key\u001b[49m\u001b[43m,\u001b[49m\n\u001b[32m    467\u001b[39m \u001b[43m        \u001b[49m\u001b[38;5;28;43mself\u001b[39;49m\u001b[43m.\u001b[49m\u001b[43mnum_warmup\u001b[49m\u001b[43m,\u001b[49m\n\u001b[32m    468\u001b[39m \u001b[43m        \u001b[49m\u001b[43minit_params\u001b[49m\u001b[43m,\u001b[49m\n\u001b[32m    469\u001b[39m \u001b[43m        \u001b[49m\u001b[43mmodel_args\u001b[49m\u001b[43m=\u001b[49m\u001b[43margs\u001b[49m\u001b[43m,\u001b[49m\n\u001b[32m    470\u001b[39m \u001b[43m        \u001b[49m\u001b[43mmodel_kwargs\u001b[49m\u001b[43m=\u001b[49m\u001b[43mkwargs\u001b[49m\u001b[43m,\u001b[49m\n\u001b[32m    471\u001b[39m \u001b[43m    \u001b[49m\u001b[43m)\u001b[49m\n\u001b[32m    472\u001b[39m     init_state = new_init_state \u001b[38;5;28;01mif\u001b[39;00m init_state \u001b[38;5;129;01mis\u001b[39;00m \u001b[38;5;28;01mNone\u001b[39;00m \u001b[38;5;28;01melse\u001b[39;00m init_state\n\u001b[32m    473\u001b[39m sample_fn, postprocess_fn = \u001b[38;5;28mself\u001b[39m._get_cached_fns()\n",
      "\u001b[36mFile \u001b[39m\u001b[32m~/opt_arm/anaconda3/envs/geko_env/lib/python3.11/site-packages/numpyro/infer/hmc.py:751\u001b[39m, in \u001b[36mHMC.init\u001b[39m\u001b[34m(self, rng_key, num_warmup, init_params, model_args, model_kwargs)\u001b[39m\n\u001b[32m    746\u001b[39m \u001b[38;5;66;03m# vectorized\u001b[39;00m\n\u001b[32m    747\u001b[39m \u001b[38;5;28;01melse\u001b[39;00m:\n\u001b[32m    748\u001b[39m     rng_key, rng_key_init_model = jnp.swapaxes(\n\u001b[32m    749\u001b[39m         vmap(random.split)(rng_key), \u001b[32m0\u001b[39m, \u001b[32m1\u001b[39m\n\u001b[32m    750\u001b[39m     )\n\u001b[32m--> \u001b[39m\u001b[32m751\u001b[39m init_params = \u001b[38;5;28;43mself\u001b[39;49m\u001b[43m.\u001b[49m\u001b[43m_init_state\u001b[49m\u001b[43m(\u001b[49m\n\u001b[32m    752\u001b[39m \u001b[43m    \u001b[49m\u001b[43mrng_key_init_model\u001b[49m\u001b[43m,\u001b[49m\u001b[43m \u001b[49m\u001b[43mmodel_args\u001b[49m\u001b[43m,\u001b[49m\u001b[43m \u001b[49m\u001b[43mmodel_kwargs\u001b[49m\u001b[43m,\u001b[49m\u001b[43m \u001b[49m\u001b[43minit_params\u001b[49m\n\u001b[32m    753\u001b[39m \u001b[43m\u001b[49m\u001b[43m)\u001b[49m\n\u001b[32m    754\u001b[39m \u001b[38;5;28;01mif\u001b[39;00m \u001b[38;5;28mself\u001b[39m._potential_fn \u001b[38;5;129;01mand\u001b[39;00m init_params \u001b[38;5;129;01mis\u001b[39;00m \u001b[38;5;28;01mNone\u001b[39;00m:\n\u001b[32m    755\u001b[39m     \u001b[38;5;28;01mraise\u001b[39;00m \u001b[38;5;167;01mValueError\u001b[39;00m(\n\u001b[32m    756\u001b[39m         \u001b[33m\"\u001b[39m\u001b[33mValid value of `init_params` must be provided with `potential_fn`.\u001b[39m\u001b[33m\"\u001b[39m\n\u001b[32m    757\u001b[39m     )\n",
      "\u001b[36mFile \u001b[39m\u001b[32m~/opt_arm/anaconda3/envs/geko_env/lib/python3.11/site-packages/numpyro/infer/hmc.py:695\u001b[39m, in \u001b[36mHMC._init_state\u001b[39m\u001b[34m(self, rng_key, model_args, model_kwargs, init_params)\u001b[39m\n\u001b[32m    688\u001b[39m \u001b[38;5;28;01mdef\u001b[39;00m\u001b[38;5;250m \u001b[39m\u001b[34m_init_state\u001b[39m(\u001b[38;5;28mself\u001b[39m, rng_key, model_args, model_kwargs, init_params):\n\u001b[32m    689\u001b[39m     \u001b[38;5;28;01mif\u001b[39;00m \u001b[38;5;28mself\u001b[39m._model \u001b[38;5;129;01mis\u001b[39;00m \u001b[38;5;129;01mnot\u001b[39;00m \u001b[38;5;28;01mNone\u001b[39;00m:\n\u001b[32m    690\u001b[39m         (\n\u001b[32m    691\u001b[39m             new_init_params,\n\u001b[32m    692\u001b[39m             potential_fn,\n\u001b[32m    693\u001b[39m             postprocess_fn,\n\u001b[32m    694\u001b[39m             model_trace,\n\u001b[32m--> \u001b[39m\u001b[32m695\u001b[39m         ) = \u001b[43minitialize_model\u001b[49m\u001b[43m(\u001b[49m\n\u001b[32m    696\u001b[39m \u001b[43m            \u001b[49m\u001b[43mrng_key\u001b[49m\u001b[43m,\u001b[49m\n\u001b[32m    697\u001b[39m \u001b[43m            \u001b[49m\u001b[38;5;28;43mself\u001b[39;49m\u001b[43m.\u001b[49m\u001b[43m_model\u001b[49m\u001b[43m,\u001b[49m\n\u001b[32m    698\u001b[39m \u001b[43m            \u001b[49m\u001b[43mdynamic_args\u001b[49m\u001b[43m=\u001b[49m\u001b[38;5;28;43;01mTrue\u001b[39;49;00m\u001b[43m,\u001b[49m\n\u001b[32m    699\u001b[39m \u001b[43m            \u001b[49m\u001b[43minit_strategy\u001b[49m\u001b[43m=\u001b[49m\u001b[38;5;28;43mself\u001b[39;49m\u001b[43m.\u001b[49m\u001b[43m_init_strategy\u001b[49m\u001b[43m,\u001b[49m\n\u001b[32m    700\u001b[39m \u001b[43m            \u001b[49m\u001b[43mmodel_args\u001b[49m\u001b[43m=\u001b[49m\u001b[43mmodel_args\u001b[49m\u001b[43m,\u001b[49m\n\u001b[32m    701\u001b[39m \u001b[43m            \u001b[49m\u001b[43mmodel_kwargs\u001b[49m\u001b[43m=\u001b[49m\u001b[43mmodel_kwargs\u001b[49m\u001b[43m,\u001b[49m\n\u001b[32m    702\u001b[39m \u001b[43m            \u001b[49m\u001b[43mforward_mode_differentiation\u001b[49m\u001b[43m=\u001b[49m\u001b[38;5;28;43mself\u001b[39;49m\u001b[43m.\u001b[49m\u001b[43m_forward_mode_differentiation\u001b[49m\u001b[43m,\u001b[49m\n\u001b[32m    703\u001b[39m \u001b[43m        \u001b[49m\u001b[43m)\u001b[49m\n\u001b[32m    704\u001b[39m         \u001b[38;5;28;01mif\u001b[39;00m init_params \u001b[38;5;129;01mis\u001b[39;00m \u001b[38;5;28;01mNone\u001b[39;00m:\n\u001b[32m    705\u001b[39m             init_params = new_init_params\n",
      "\u001b[36mFile \u001b[39m\u001b[32m~/opt_arm/anaconda3/envs/geko_env/lib/python3.11/site-packages/numpyro/infer/util.py:688\u001b[39m, in \u001b[36minitialize_model\u001b[39m\u001b[34m(rng_key, model, init_strategy, dynamic_args, model_args, model_kwargs, forward_mode_differentiation, validate_grad)\u001b[39m\n\u001b[32m    678\u001b[39m model_kwargs = {} \u001b[38;5;28;01mif\u001b[39;00m model_kwargs \u001b[38;5;129;01mis\u001b[39;00m \u001b[38;5;28;01mNone\u001b[39;00m \u001b[38;5;28;01melse\u001b[39;00m model_kwargs\n\u001b[32m    679\u001b[39m substituted_model = substitute(\n\u001b[32m    680\u001b[39m     seed(model, rng_key \u001b[38;5;28;01mif\u001b[39;00m is_prng_key(rng_key) \u001b[38;5;28;01melse\u001b[39;00m rng_key[\u001b[32m0\u001b[39m]),\n\u001b[32m    681\u001b[39m     substitute_fn=init_strategy,\n\u001b[32m    682\u001b[39m )\n\u001b[32m    683\u001b[39m (\n\u001b[32m    684\u001b[39m     inv_transforms,\n\u001b[32m    685\u001b[39m     replay_model,\n\u001b[32m    686\u001b[39m     has_enumerate_support,\n\u001b[32m    687\u001b[39m     model_trace,\n\u001b[32m--> \u001b[39m\u001b[32m688\u001b[39m ) = \u001b[43m_get_model_transforms\u001b[49m\u001b[43m(\u001b[49m\u001b[43msubstituted_model\u001b[49m\u001b[43m,\u001b[49m\u001b[43m \u001b[49m\u001b[43mmodel_args\u001b[49m\u001b[43m,\u001b[49m\u001b[43m \u001b[49m\u001b[43mmodel_kwargs\u001b[49m\u001b[43m)\u001b[49m\n\u001b[32m    690\u001b[39m \u001b[38;5;28;01mfor\u001b[39;00m name, site \u001b[38;5;129;01min\u001b[39;00m model_trace.items():\n\u001b[32m    691\u001b[39m     \u001b[38;5;28;01mif\u001b[39;00m (\n\u001b[32m    692\u001b[39m         site[\u001b[33m\"\u001b[39m\u001b[33mtype\u001b[39m\u001b[33m\"\u001b[39m] == \u001b[33m\"\u001b[39m\u001b[33msample\u001b[39m\u001b[33m\"\u001b[39m\n\u001b[32m    693\u001b[39m         \u001b[38;5;129;01mand\u001b[39;00m \u001b[38;5;28misinstance\u001b[39m(site[\u001b[33m\"\u001b[39m\u001b[33mfn\u001b[39m\u001b[33m\"\u001b[39m], dist.Delta)\n\u001b[32m    694\u001b[39m         \u001b[38;5;129;01mand\u001b[39;00m \u001b[38;5;129;01mnot\u001b[39;00m site[\u001b[33m\"\u001b[39m\u001b[33mis_observed\u001b[39m\u001b[33m\"\u001b[39m]\n\u001b[32m    695\u001b[39m     ):\n",
      "\u001b[36mFile \u001b[39m\u001b[32m~/opt_arm/anaconda3/envs/geko_env/lib/python3.11/site-packages/numpyro/infer/util.py:482\u001b[39m, in \u001b[36m_get_model_transforms\u001b[39m\u001b[34m(model, model_args, model_kwargs)\u001b[39m\n\u001b[32m    480\u001b[39m \u001b[38;5;28;01mdef\u001b[39;00m\u001b[38;5;250m \u001b[39m\u001b[34m_get_model_transforms\u001b[39m(model, model_args=(), model_kwargs=\u001b[38;5;28;01mNone\u001b[39;00m):\n\u001b[32m    481\u001b[39m     model_kwargs = {} \u001b[38;5;28;01mif\u001b[39;00m model_kwargs \u001b[38;5;129;01mis\u001b[39;00m \u001b[38;5;28;01mNone\u001b[39;00m \u001b[38;5;28;01melse\u001b[39;00m model_kwargs\n\u001b[32m--> \u001b[39m\u001b[32m482\u001b[39m     model_trace = \u001b[43mtrace\u001b[49m\u001b[43m(\u001b[49m\u001b[43mmodel\u001b[49m\u001b[43m)\u001b[49m\u001b[43m.\u001b[49m\u001b[43mget_trace\u001b[49m\u001b[43m(\u001b[49m\u001b[43m*\u001b[49m\u001b[43mmodel_args\u001b[49m\u001b[43m,\u001b[49m\u001b[43m \u001b[49m\u001b[43m*\u001b[49m\u001b[43m*\u001b[49m\u001b[43mmodel_kwargs\u001b[49m\u001b[43m)\u001b[49m\n\u001b[32m    483\u001b[39m     inv_transforms = {}\n\u001b[32m    484\u001b[39m     \u001b[38;5;66;03m# model code may need to be replayed in the presence of deterministic sites\u001b[39;00m\n",
      "\u001b[36mFile \u001b[39m\u001b[32m~/opt_arm/anaconda3/envs/geko_env/lib/python3.11/site-packages/numpyro/handlers.py:191\u001b[39m, in \u001b[36mtrace.get_trace\u001b[39m\u001b[34m(self, *args, **kwargs)\u001b[39m\n\u001b[32m    183\u001b[39m \u001b[38;5;28;01mdef\u001b[39;00m\u001b[38;5;250m \u001b[39m\u001b[34mget_trace\u001b[39m(\u001b[38;5;28mself\u001b[39m, *args, **kwargs) -> OrderedDict[\u001b[38;5;28mstr\u001b[39m, Message]:\n\u001b[32m    184\u001b[39m \u001b[38;5;250m    \u001b[39m\u001b[33;03m\"\"\"\u001b[39;00m\n\u001b[32m    185\u001b[39m \u001b[33;03m    Run the wrapped callable and return the recorded trace.\u001b[39;00m\n\u001b[32m    186\u001b[39m \n\u001b[32m   (...)\u001b[39m\u001b[32m    189\u001b[39m \u001b[33;03m    :return: `OrderedDict` containing the execution trace.\u001b[39;00m\n\u001b[32m    190\u001b[39m \u001b[33;03m    \"\"\"\u001b[39;00m\n\u001b[32m--> \u001b[39m\u001b[32m191\u001b[39m     \u001b[38;5;28;43mself\u001b[39;49m\u001b[43m(\u001b[49m\u001b[43m*\u001b[49m\u001b[43margs\u001b[49m\u001b[43m,\u001b[49m\u001b[43m \u001b[49m\u001b[43m*\u001b[49m\u001b[43m*\u001b[49m\u001b[43mkwargs\u001b[49m\u001b[43m)\u001b[49m\n\u001b[32m    192\u001b[39m     \u001b[38;5;28;01mreturn\u001b[39;00m \u001b[38;5;28mself\u001b[39m.trace\n",
      "\u001b[36mFile \u001b[39m\u001b[32m~/opt_arm/anaconda3/envs/geko_env/lib/python3.11/site-packages/numpyro/primitives.py:121\u001b[39m, in \u001b[36mMessenger.__call__\u001b[39m\u001b[34m(self, *args, **kwargs)\u001b[39m\n\u001b[32m    119\u001b[39m     \u001b[38;5;28;01mreturn\u001b[39;00m \u001b[38;5;28mself\u001b[39m\n\u001b[32m    120\u001b[39m \u001b[38;5;28;01mwith\u001b[39;00m \u001b[38;5;28mself\u001b[39m:\n\u001b[32m--> \u001b[39m\u001b[32m121\u001b[39m     \u001b[38;5;28;01mreturn\u001b[39;00m \u001b[38;5;28;43mself\u001b[39;49m\u001b[43m.\u001b[49m\u001b[43mfn\u001b[49m\u001b[43m(\u001b[49m\u001b[43m*\u001b[49m\u001b[43margs\u001b[49m\u001b[43m,\u001b[49m\u001b[43m \u001b[49m\u001b[43m*\u001b[49m\u001b[43m*\u001b[49m\u001b[43mkwargs\u001b[49m\u001b[43m)\u001b[49m\n",
      "\u001b[36mFile \u001b[39m\u001b[32m~/opt_arm/anaconda3/envs/geko_env/lib/python3.11/site-packages/numpyro/primitives.py:121\u001b[39m, in \u001b[36mMessenger.__call__\u001b[39m\u001b[34m(self, *args, **kwargs)\u001b[39m\n\u001b[32m    119\u001b[39m     \u001b[38;5;28;01mreturn\u001b[39;00m \u001b[38;5;28mself\u001b[39m\n\u001b[32m    120\u001b[39m \u001b[38;5;28;01mwith\u001b[39;00m \u001b[38;5;28mself\u001b[39m:\n\u001b[32m--> \u001b[39m\u001b[32m121\u001b[39m     \u001b[38;5;28;01mreturn\u001b[39;00m \u001b[38;5;28;43mself\u001b[39;49m\u001b[43m.\u001b[49m\u001b[43mfn\u001b[49m\u001b[43m(\u001b[49m\u001b[43m*\u001b[49m\u001b[43margs\u001b[49m\u001b[43m,\u001b[49m\u001b[43m \u001b[49m\u001b[43m*\u001b[49m\u001b[43m*\u001b[49m\u001b[43mkwargs\u001b[49m\u001b[43m)\u001b[49m\n",
      "\u001b[36mFile \u001b[39m\u001b[32m~/opt_arm/anaconda3/envs/geko_env/lib/python3.11/site-packages/numpyro/handlers.py:846\u001b[39m, in \u001b[36mseed.__call__\u001b[39m\u001b[34m(self, *args, **kwargs)\u001b[39m\n\u001b[32m    842\u001b[39m     cloned_seeded_fn = seed(\n\u001b[32m    843\u001b[39m         \u001b[38;5;28mself\u001b[39m.fn, rng_seed=\u001b[38;5;28mself\u001b[39m.rng_key, hide_types=\u001b[38;5;28mself\u001b[39m.hide_types\n\u001b[32m    844\u001b[39m     )\n\u001b[32m    845\u001b[39m     cloned_seeded_fn.stateful = \u001b[38;5;28;01mTrue\u001b[39;00m\n\u001b[32m--> \u001b[39m\u001b[32m846\u001b[39m     \u001b[38;5;28;01mreturn\u001b[39;00m \u001b[43mcloned_seeded_fn\u001b[49m\u001b[43m.\u001b[49m\u001b[34;43m__call__\u001b[39;49m\u001b[43m(\u001b[49m\u001b[43m*\u001b[49m\u001b[43margs\u001b[49m\u001b[43m,\u001b[49m\u001b[43m \u001b[49m\u001b[43m*\u001b[49m\u001b[43m*\u001b[49m\u001b[43mkwargs\u001b[49m\u001b[43m)\u001b[49m\n\u001b[32m    847\u001b[39m \u001b[38;5;28;01mreturn\u001b[39;00m \u001b[38;5;28msuper\u001b[39m().\u001b[34m__call__\u001b[39m(*args, **kwargs)\n",
      "\u001b[36mFile \u001b[39m\u001b[32m~/opt_arm/anaconda3/envs/geko_env/lib/python3.11/site-packages/numpyro/handlers.py:847\u001b[39m, in \u001b[36mseed.__call__\u001b[39m\u001b[34m(self, *args, **kwargs)\u001b[39m\n\u001b[32m    845\u001b[39m     cloned_seeded_fn.stateful = \u001b[38;5;28;01mTrue\u001b[39;00m\n\u001b[32m    846\u001b[39m     \u001b[38;5;28;01mreturn\u001b[39;00m cloned_seeded_fn.\u001b[34m__call__\u001b[39m(*args, **kwargs)\n\u001b[32m--> \u001b[39m\u001b[32m847\u001b[39m \u001b[38;5;28;01mreturn\u001b[39;00m \u001b[38;5;28;43msuper\u001b[39;49m\u001b[43m(\u001b[49m\u001b[43m)\u001b[49m\u001b[43m.\u001b[49m\u001b[34;43m__call__\u001b[39;49m\u001b[43m(\u001b[49m\u001b[43m*\u001b[49m\u001b[43margs\u001b[49m\u001b[43m,\u001b[49m\u001b[43m \u001b[49m\u001b[43m*\u001b[49m\u001b[43m*\u001b[49m\u001b[43mkwargs\u001b[49m\u001b[43m)\u001b[49m\n",
      "\u001b[36mFile \u001b[39m\u001b[32m~/opt_arm/anaconda3/envs/geko_env/lib/python3.11/site-packages/numpyro/primitives.py:121\u001b[39m, in \u001b[36mMessenger.__call__\u001b[39m\u001b[34m(self, *args, **kwargs)\u001b[39m\n\u001b[32m    119\u001b[39m     \u001b[38;5;28;01mreturn\u001b[39;00m \u001b[38;5;28mself\u001b[39m\n\u001b[32m    120\u001b[39m \u001b[38;5;28;01mwith\u001b[39;00m \u001b[38;5;28mself\u001b[39m:\n\u001b[32m--> \u001b[39m\u001b[32m121\u001b[39m     \u001b[38;5;28;01mreturn\u001b[39;00m \u001b[38;5;28;43mself\u001b[39;49m\u001b[43m.\u001b[49m\u001b[43mfn\u001b[49m\u001b[43m(\u001b[49m\u001b[43m*\u001b[49m\u001b[43margs\u001b[49m\u001b[43m,\u001b[49m\u001b[43m \u001b[49m\u001b[43m*\u001b[49m\u001b[43m*\u001b[49m\u001b[43mkwargs\u001b[49m\u001b[43m)\u001b[49m\n",
      "\u001b[36mFile \u001b[39m\u001b[32m~/geko/geko/models.py:799\u001b[39m, in \u001b[36mDiskModel.inference_model_parametric\u001b[39m\u001b[34m(self, grism_object, obs_map, obs_error, mask)\u001b[39m\n\u001b[32m    795\u001b[39m velocities_scaled = velocities + v0\n\u001b[32m    797\u001b[39m dispersions = sigma0*jnp.ones_like(velocities_scaled)\n\u001b[32m--> \u001b[39m\u001b[32m799\u001b[39m \u001b[38;5;28mself\u001b[39m.model_map = \u001b[43mgrism_object\u001b[49m\u001b[43m.\u001b[49m\u001b[43mdisperse\u001b[49m\u001b[43m(\u001b[49m\u001b[43mfluxes_high\u001b[49m\u001b[43m,\u001b[49m\u001b[43m \u001b[49m\u001b[43mvelocities_scaled\u001b[49m\u001b[43m,\u001b[49m\u001b[43m \u001b[49m\u001b[43mdispersions\u001b[49m\u001b[43m)\u001b[49m\n\u001b[32m    801\u001b[39m \u001b[38;5;28mself\u001b[39m.model_map = utils.resample(\u001b[38;5;28mself\u001b[39m.model_map, grism_object.factor, \u001b[38;5;28mself\u001b[39m.wave_factor)\n\u001b[32m    804\u001b[39m \u001b[38;5;28mself\u001b[39m.error_scaling = \u001b[32m1\u001b[39m \u001b[38;5;66;03m#numpyro.sample('error_scaling', dist.Uniform(0, 1))*5\u001b[39;00m\n",
      "\u001b[36mFile \u001b[39m\u001b[32m~/geko/geko/grism.py:449\u001b[39m, in \u001b[36mGrism.disperse\u001b[39m\u001b[34m(self, F, V, D)\u001b[39m\n\u001b[32m    447\u001b[39m wave_space_crop = \u001b[38;5;28mself\u001b[39m.wave_space[J_min:J_max]\n\u001b[32m    448\u001b[39m wave_space_edges_prov= wave_space_crop[\u001b[32m1\u001b[39m:] - jnp.diff(wave_space_crop)/\u001b[32m2\u001b[39m\n\u001b[32m--> \u001b[39m\u001b[32m449\u001b[39m wave_space_edges_prov2 = \u001b[43mjnp\u001b[49m\u001b[43m.\u001b[49m\u001b[43minsert\u001b[49m\u001b[43m(\u001b[49m\u001b[43mwave_space_edges_prov\u001b[49m\u001b[43m,\u001b[49m\u001b[43m \u001b[49m\u001b[32;43m0\u001b[39;49m\u001b[43m,\u001b[49m\u001b[43m \u001b[49m\u001b[43mwave_space_edges_prov\u001b[49m\u001b[43m[\u001b[49m\u001b[32;43m0\u001b[39;49m\u001b[43m]\u001b[49m\u001b[43m \u001b[49m\u001b[43m-\u001b[49m\u001b[43m \u001b[49m\u001b[43mjnp\u001b[49m\u001b[43m.\u001b[49m\u001b[43mdiff\u001b[49m\u001b[43m(\u001b[49m\u001b[43mwave_space_crop\u001b[49m\u001b[43m)\u001b[49m\u001b[43m[\u001b[49m\u001b[32;43m0\u001b[39;49m\u001b[43m]\u001b[49m\u001b[43m)\u001b[49m\n\u001b[32m    450\u001b[39m wave_space_edges = jnp.append(wave_space_edges_prov2, wave_space_edges_prov2[-\u001b[32m1\u001b[39m] + jnp.diff(wave_space_crop)[-\u001b[32m1\u001b[39m])\n\u001b[32m    453\u001b[39m \u001b[38;5;66;03m# Use JIT-compiled core for Gaussian computation\u001b[39;00m\n",
      "\u001b[36mFile \u001b[39m\u001b[32m~/opt_arm/anaconda3/envs/geko_env/lib/python3.11/site-packages/jax/_src/numpy/lax_numpy.py:8108\u001b[39m, in \u001b[36minsert\u001b[39m\u001b[34m(arr, obj, values, axis)\u001b[39m\n\u001b[32m   8105\u001b[39m out_shape[axis] += n_insert\n\u001b[32m   8106\u001b[39m out = zeros_like(a, shape=\u001b[38;5;28mtuple\u001b[39m(out_shape))\n\u001b[32m-> \u001b[39m\u001b[32m8108\u001b[39m indices = where(indices < \u001b[32m0\u001b[39m, \u001b[43mindices\u001b[49m\u001b[43m \u001b[49m\u001b[43m+\u001b[49m\u001b[43m \u001b[49m\u001b[43mn_input\u001b[49m, indices)\n\u001b[32m   8109\u001b[39m indices = clip(indices, \u001b[32m0\u001b[39m, n_input)\n\u001b[32m   8111\u001b[39m values_ind = indices.at[argsort(indices)].add(arange(n_insert, dtype=indices.dtype))\n",
      "\u001b[36mFile \u001b[39m\u001b[32m~/opt_arm/anaconda3/envs/geko_env/lib/python3.11/site-packages/jax/_src/numpy/array_methods.py:583\u001b[39m, in \u001b[36m_defer_to_unrecognized_arg.<locals>.deferring_binary_op\u001b[39m\u001b[34m(self, other)\u001b[39m\n\u001b[32m    581\u001b[39m args = (other, \u001b[38;5;28mself\u001b[39m) \u001b[38;5;28;01mif\u001b[39;00m swap \u001b[38;5;28;01melse\u001b[39;00m (\u001b[38;5;28mself\u001b[39m, other)\n\u001b[32m    582\u001b[39m \u001b[38;5;28;01mif\u001b[39;00m \u001b[38;5;28misinstance\u001b[39m(other, _accepted_binop_types):\n\u001b[32m--> \u001b[39m\u001b[32m583\u001b[39m   \u001b[38;5;28;01mreturn\u001b[39;00m \u001b[43mbinary_op\u001b[49m\u001b[43m(\u001b[49m\u001b[43m*\u001b[49m\u001b[43margs\u001b[49m\u001b[43m)\u001b[49m\n\u001b[32m    584\u001b[39m \u001b[38;5;66;03m# Note: don't use isinstance here, because we don't want to raise for\u001b[39;00m\n\u001b[32m    585\u001b[39m \u001b[38;5;66;03m# subclasses, e.g. NamedTuple objects that may override operators.\u001b[39;00m\n\u001b[32m    586\u001b[39m \u001b[38;5;28;01mif\u001b[39;00m \u001b[38;5;28mtype\u001b[39m(other) \u001b[38;5;129;01min\u001b[39;00m _rejected_binop_types:\n",
      "\u001b[36mFile \u001b[39m\u001b[32m~/opt_arm/anaconda3/envs/geko_env/lib/python3.11/site-packages/jax/_src/numpy/ufunc_api.py:180\u001b[39m, in \u001b[36mufunc.__call__\u001b[39m\u001b[34m(self, out, where, *args)\u001b[39m\n\u001b[32m    178\u001b[39m   \u001b[38;5;28;01mraise\u001b[39;00m \u001b[38;5;167;01mNotImplementedError\u001b[39;00m(\u001b[33mf\u001b[39m\u001b[33m\"\u001b[39m\u001b[33mwhere argument of \u001b[39m\u001b[38;5;132;01m{\u001b[39;00m\u001b[38;5;28mself\u001b[39m\u001b[38;5;132;01m}\u001b[39;00m\u001b[33m\"\u001b[39m)\n\u001b[32m    179\u001b[39m call = \u001b[38;5;28mself\u001b[39m.__static_props[\u001b[33m'\u001b[39m\u001b[33mcall\u001b[39m\u001b[33m'\u001b[39m] \u001b[38;5;129;01mor\u001b[39;00m \u001b[38;5;28mself\u001b[39m._call_vectorized\n\u001b[32m--> \u001b[39m\u001b[32m180\u001b[39m \u001b[38;5;28;01mreturn\u001b[39;00m \u001b[43mcall\u001b[49m\u001b[43m(\u001b[49m\u001b[43m*\u001b[49m\u001b[43margs\u001b[49m\u001b[43m)\u001b[49m\n",
      "    \u001b[31m[... skipping hidden 1 frame]\u001b[39m\n",
      "\u001b[36mFile \u001b[39m\u001b[32m~/opt_arm/anaconda3/envs/geko_env/lib/python3.11/site-packages/jax/_src/pjit.py:334\u001b[39m, in \u001b[36m_cpp_pjit.<locals>.cache_miss\u001b[39m\u001b[34m(*args, **kwargs)\u001b[39m\n\u001b[32m    329\u001b[39m \u001b[38;5;28;01mif\u001b[39;00m config.no_tracing.value:\n\u001b[32m    330\u001b[39m   \u001b[38;5;28;01mraise\u001b[39;00m \u001b[38;5;167;01mRuntimeError\u001b[39;00m(\u001b[33mf\u001b[39m\u001b[33m\"\u001b[39m\u001b[33mre-tracing function \u001b[39m\u001b[38;5;132;01m{\u001b[39;00mjit_info.fun_sourceinfo\u001b[38;5;132;01m}\u001b[39;00m\u001b[33m for \u001b[39m\u001b[33m\"\u001b[39m\n\u001b[32m    331\u001b[39m                      \u001b[33m\"\u001b[39m\u001b[33m`jit`, but \u001b[39m\u001b[33m'\u001b[39m\u001b[33mno_tracing\u001b[39m\u001b[33m'\u001b[39m\u001b[33m is set\u001b[39m\u001b[33m\"\u001b[39m)\n\u001b[32m    333\u001b[39m (outs, out_flat, out_tree, args_flat, jaxpr, attrs_tracked, box_data,\n\u001b[32m--> \u001b[39m\u001b[32m334\u001b[39m  executable, pgle_profiler) = \u001b[43m_python_pjit_helper\u001b[49m\u001b[43m(\u001b[49m\u001b[43mfun\u001b[49m\u001b[43m,\u001b[49m\u001b[43m \u001b[49m\u001b[43mjit_info\u001b[49m\u001b[43m,\u001b[49m\u001b[43m \u001b[49m\u001b[43m*\u001b[49m\u001b[43margs\u001b[49m\u001b[43m,\u001b[49m\u001b[43m \u001b[49m\u001b[43m*\u001b[49m\u001b[43m*\u001b[49m\u001b[43mkwargs\u001b[49m\u001b[43m)\u001b[49m\n\u001b[32m    336\u001b[39m maybe_fastpath_data = _get_fastpath_data(\n\u001b[32m    337\u001b[39m     executable, out_tree, args_flat, out_flat, attrs_tracked, box_data,\n\u001b[32m    338\u001b[39m     jaxpr.effects, jaxpr.consts, jit_info.abstracted_axes, pgle_profiler)\n\u001b[32m    340\u001b[39m \u001b[38;5;28;01mreturn\u001b[39;00m outs, maybe_fastpath_data, _need_to_rebuild_with_fdo(pgle_profiler)\n",
      "\u001b[36mFile \u001b[39m\u001b[32m~/opt_arm/anaconda3/envs/geko_env/lib/python3.11/site-packages/jax/_src/pjit.py:195\u001b[39m, in \u001b[36m_python_pjit_helper\u001b[39m\u001b[34m(fun, jit_info, *args, **kwargs)\u001b[39m\n\u001b[32m    193\u001b[39m   args_flat = \u001b[38;5;28mmap\u001b[39m(core.full_lower, args_flat)\n\u001b[32m    194\u001b[39m   core.check_eval_args(args_flat)\n\u001b[32m--> \u001b[39m\u001b[32m195\u001b[39m   out_flat, compiled, profiler = \u001b[43m_pjit_call_impl_python\u001b[49m\u001b[43m(\u001b[49m\u001b[43m*\u001b[49m\u001b[43margs_flat\u001b[49m\u001b[43m,\u001b[49m\u001b[43m \u001b[49m\u001b[43m*\u001b[49m\u001b[43m*\u001b[49m\u001b[43mp\u001b[49m\u001b[43m.\u001b[49m\u001b[43mparams\u001b[49m\u001b[43m)\u001b[49m\n\u001b[32m    196\u001b[39m \u001b[38;5;28;01melse\u001b[39;00m:\n\u001b[32m    197\u001b[39m   out_flat = pjit_p.bind(*args_flat, **p.params)\n",
      "\u001b[36mFile \u001b[39m\u001b[32m~/opt_arm/anaconda3/envs/geko_env/lib/python3.11/site-packages/jax/_src/pjit.py:1862\u001b[39m, in \u001b[36m_pjit_call_impl_python\u001b[39m\u001b[34m(jaxpr, in_shardings, out_shardings, in_layouts, out_layouts, donated_invars, ctx_mesh, name, keep_unused, inline, compiler_options_kvs, *args)\u001b[39m\n\u001b[32m   1850\u001b[39m compiler_options_kvs = compiler_options_kvs + \u001b[38;5;28mtuple\u001b[39m(pgle_compile_options.items())\n\u001b[32m   1851\u001b[39m \u001b[38;5;66;03m# Passing mutable PGLE profile here since it should be extracted by JAXPR to\u001b[39;00m\n\u001b[32m   1852\u001b[39m \u001b[38;5;66;03m# initialize the fdo_profile compile option.\u001b[39;00m\n\u001b[32m   1853\u001b[39m compiled = \u001b[43m_resolve_and_lower\u001b[49m\u001b[43m(\u001b[49m\n\u001b[32m   1854\u001b[39m \u001b[43m    \u001b[49m\u001b[43margs\u001b[49m\u001b[43m,\u001b[49m\u001b[43m \u001b[49m\u001b[43mjaxpr\u001b[49m\u001b[43m=\u001b[49m\u001b[43mjaxpr\u001b[49m\u001b[43m,\u001b[49m\u001b[43m \u001b[49m\u001b[43min_shardings\u001b[49m\u001b[43m=\u001b[49m\u001b[43min_shardings\u001b[49m\u001b[43m,\u001b[49m\n\u001b[32m   1855\u001b[39m \u001b[43m    \u001b[49m\u001b[43mout_shardings\u001b[49m\u001b[43m=\u001b[49m\u001b[43mout_shardings\u001b[49m\u001b[43m,\u001b[49m\u001b[43m \u001b[49m\u001b[43min_layouts\u001b[49m\u001b[43m=\u001b[49m\u001b[43min_layouts\u001b[49m\u001b[43m,\u001b[49m\n\u001b[32m   1856\u001b[39m \u001b[43m    \u001b[49m\u001b[43mout_layouts\u001b[49m\u001b[43m=\u001b[49m\u001b[43mout_layouts\u001b[49m\u001b[43m,\u001b[49m\u001b[43m \u001b[49m\u001b[43mdonated_invars\u001b[49m\u001b[43m=\u001b[49m\u001b[43mdonated_invars\u001b[49m\u001b[43m,\u001b[49m\n\u001b[32m   1857\u001b[39m \u001b[43m    \u001b[49m\u001b[43mctx_mesh\u001b[49m\u001b[43m=\u001b[49m\u001b[43mctx_mesh\u001b[49m\u001b[43m,\u001b[49m\u001b[43m \u001b[49m\u001b[43mname\u001b[49m\u001b[43m=\u001b[49m\u001b[43mname\u001b[49m\u001b[43m,\u001b[49m\u001b[43m \u001b[49m\u001b[43mkeep_unused\u001b[49m\u001b[43m=\u001b[49m\u001b[43mkeep_unused\u001b[49m\u001b[43m,\u001b[49m\n\u001b[32m   1858\u001b[39m \u001b[43m    \u001b[49m\u001b[43minline\u001b[49m\u001b[43m=\u001b[49m\u001b[43minline\u001b[49m\u001b[43m,\u001b[49m\u001b[43m \u001b[49m\u001b[43mlowering_platforms\u001b[49m\u001b[43m=\u001b[49m\u001b[38;5;28;43;01mNone\u001b[39;49;00m\u001b[43m,\u001b[49m\n\u001b[32m   1859\u001b[39m \u001b[43m    \u001b[49m\u001b[43mlowering_parameters\u001b[49m\u001b[43m=\u001b[49m\u001b[43mmlir\u001b[49m\u001b[43m.\u001b[49m\u001b[43mLoweringParameters\u001b[49m\u001b[43m(\u001b[49m\u001b[43m)\u001b[49m\u001b[43m,\u001b[49m\n\u001b[32m   1860\u001b[39m \u001b[43m    \u001b[49m\u001b[43mpgle_profiler\u001b[49m\u001b[43m=\u001b[49m\u001b[43mpgle_profiler\u001b[49m\u001b[43m,\u001b[49m\n\u001b[32m   1861\u001b[39m \u001b[43m    \u001b[49m\u001b[43mcompiler_options_kvs\u001b[49m\u001b[43m=\u001b[49m\u001b[43mcompiler_options_kvs\u001b[49m\u001b[43m,\u001b[49m\n\u001b[32m-> \u001b[39m\u001b[32m1862\u001b[39m \u001b[43m\u001b[49m\u001b[43m)\u001b[49m\u001b[43m.\u001b[49m\u001b[43mcompile\u001b[49m\u001b[43m(\u001b[49m\u001b[43m)\u001b[49m\n\u001b[32m   1864\u001b[39m \u001b[38;5;66;03m# This check is expensive so only do it if enable_checks is on.\u001b[39;00m\n\u001b[32m   1865\u001b[39m \u001b[38;5;28;01mif\u001b[39;00m compiled._auto_spmd_lowering \u001b[38;5;129;01mand\u001b[39;00m config.enable_checks.value:\n",
      "\u001b[36mFile \u001b[39m\u001b[32m~/opt_arm/anaconda3/envs/geko_env/lib/python3.11/site-packages/jax/_src/interpreters/pxla.py:2467\u001b[39m, in \u001b[36mMeshComputation.compile\u001b[39m\u001b[34m(self, compiler_options)\u001b[39m\n\u001b[32m   2465\u001b[39m compiler_options_kvs = \u001b[38;5;28mself\u001b[39m._compiler_options_kvs + t_compiler_options\n\u001b[32m   2466\u001b[39m \u001b[38;5;28;01mif\u001b[39;00m \u001b[38;5;28mself\u001b[39m._executable \u001b[38;5;129;01mis\u001b[39;00m \u001b[38;5;28;01mNone\u001b[39;00m \u001b[38;5;129;01mor\u001b[39;00m compiler_options_kvs:\n\u001b[32m-> \u001b[39m\u001b[32m2467\u001b[39m   executable = \u001b[43mUnloadedMeshExecutable\u001b[49m\u001b[43m.\u001b[49m\u001b[43mfrom_hlo\u001b[49m\u001b[43m(\u001b[49m\n\u001b[32m   2468\u001b[39m \u001b[43m      \u001b[49m\u001b[38;5;28;43mself\u001b[39;49m\u001b[43m.\u001b[49m\u001b[43m_name\u001b[49m\u001b[43m,\u001b[49m\u001b[43m \u001b[49m\u001b[38;5;28;43mself\u001b[39;49m\u001b[43m.\u001b[49m\u001b[43m_hlo\u001b[49m\u001b[43m,\u001b[49m\u001b[43m \u001b[49m\u001b[43m*\u001b[49m\u001b[43m*\u001b[49m\u001b[38;5;28;43mself\u001b[39;49m\u001b[43m.\u001b[49m\u001b[43mcompile_args\u001b[49m\u001b[43m,\u001b[49m\n\u001b[32m   2469\u001b[39m \u001b[43m      \u001b[49m\u001b[43mcompiler_options_kvs\u001b[49m\u001b[43m=\u001b[49m\u001b[43mcompiler_options_kvs\u001b[49m\u001b[43m)\u001b[49m\n\u001b[32m   2470\u001b[39m   \u001b[38;5;28;01mif\u001b[39;00m \u001b[38;5;129;01mnot\u001b[39;00m compiler_options_kvs:\n\u001b[32m   2471\u001b[39m     \u001b[38;5;28mself\u001b[39m._executable = executable\n",
      "\u001b[36mFile \u001b[39m\u001b[32m~/opt_arm/anaconda3/envs/geko_env/lib/python3.11/site-packages/jax/_src/interpreters/pxla.py:3009\u001b[39m, in \u001b[36mUnloadedMeshExecutable.from_hlo\u001b[39m\u001b[34m(***failed resolving arguments***)\u001b[39m\n\u001b[32m   3006\u001b[39m       \u001b[38;5;28;01mbreak\u001b[39;00m\n\u001b[32m   3008\u001b[39m util.test_event(\u001b[33m\"\u001b[39m\u001b[33mpxla_cached_compilation\u001b[39m\u001b[33m\"\u001b[39m)\n\u001b[32m-> \u001b[39m\u001b[32m3009\u001b[39m xla_executable = \u001b[43m_cached_compilation\u001b[49m\u001b[43m(\u001b[49m\n\u001b[32m   3010\u001b[39m \u001b[43m    \u001b[49m\u001b[43mhlo\u001b[49m\u001b[43m,\u001b[49m\u001b[43m \u001b[49m\u001b[43mname\u001b[49m\u001b[43m,\u001b[49m\u001b[43m \u001b[49m\u001b[43mmesh\u001b[49m\u001b[43m,\u001b[49m\u001b[43m \u001b[49m\u001b[43mspmd_lowering\u001b[49m\u001b[43m,\u001b[49m\n\u001b[32m   3011\u001b[39m \u001b[43m    \u001b[49m\u001b[43mtuple_args\u001b[49m\u001b[43m,\u001b[49m\u001b[43m \u001b[49m\u001b[43mauto_spmd_lowering\u001b[49m\u001b[43m,\u001b[49m\u001b[43m \u001b[49m\u001b[43mallow_prop_to_inputs\u001b[49m\u001b[43m,\u001b[49m\n\u001b[32m   3012\u001b[39m \u001b[43m    \u001b[49m\u001b[43mallow_prop_to_outputs\u001b[49m\u001b[43m,\u001b[49m\u001b[43m \u001b[49m\u001b[38;5;28;43mtuple\u001b[39;49m\u001b[43m(\u001b[49m\u001b[43mhost_callbacks\u001b[49m\u001b[43m)\u001b[49m\u001b[43m,\u001b[49m\u001b[43m \u001b[49m\u001b[43mbackend\u001b[49m\u001b[43m,\u001b[49m\u001b[43m \u001b[49m\u001b[43mda\u001b[49m\u001b[43m,\u001b[49m\u001b[43m \u001b[49m\u001b[43mpmap_nreps\u001b[49m\u001b[43m,\u001b[49m\n\u001b[32m   3013\u001b[39m \u001b[43m    \u001b[49m\u001b[43mcompiler_options_kvs\u001b[49m\u001b[43m,\u001b[49m\u001b[43m \u001b[49m\u001b[43mpgle_profiler\u001b[49m\u001b[43m)\u001b[49m\n\u001b[32m   3015\u001b[39m \u001b[38;5;28;01mif\u001b[39;00m auto_spmd_lowering:\n\u001b[32m   3016\u001b[39m   \u001b[38;5;28;01massert\u001b[39;00m mesh \u001b[38;5;129;01mis\u001b[39;00m \u001b[38;5;129;01mnot\u001b[39;00m \u001b[38;5;28;01mNone\u001b[39;00m\n",
      "\u001b[36mFile \u001b[39m\u001b[32m~/opt_arm/anaconda3/envs/geko_env/lib/python3.11/site-packages/jax/_src/interpreters/pxla.py:2800\u001b[39m, in \u001b[36m_cached_compilation\u001b[39m\u001b[34m(computation, name, mesh, spmd_lowering, tuple_args, auto_spmd_lowering, allow_prop_to_inputs, allow_prop_to_outputs, host_callbacks, backend, da, pmap_nreps, compiler_options_kvs, pgle_profiler)\u001b[39m\n\u001b[32m   2792\u001b[39m compile_options = create_compile_options(\n\u001b[32m   2793\u001b[39m     computation, mesh, spmd_lowering, tuple_args, auto_spmd_lowering,\n\u001b[32m   2794\u001b[39m     allow_prop_to_inputs, allow_prop_to_outputs, backend,\n\u001b[32m   2795\u001b[39m     dev, pmap_nreps, compiler_options)\n\u001b[32m   2797\u001b[39m \u001b[38;5;28;01mwith\u001b[39;00m dispatch.log_elapsed_time(\n\u001b[32m   2798\u001b[39m     \u001b[33m\"\u001b[39m\u001b[33mFinished XLA compilation of \u001b[39m\u001b[38;5;132;01m{fun_name}\u001b[39;00m\u001b[33m in \u001b[39m\u001b[38;5;132;01m{elapsed_time:.9f}\u001b[39;00m\u001b[33m sec\u001b[39m\u001b[33m\"\u001b[39m,\n\u001b[32m   2799\u001b[39m     fun_name=name, event=dispatch.BACKEND_COMPILE_EVENT):\n\u001b[32m-> \u001b[39m\u001b[32m2800\u001b[39m   xla_executable = \u001b[43mcompiler\u001b[49m\u001b[43m.\u001b[49m\u001b[43mcompile_or_get_cached\u001b[49m\u001b[43m(\u001b[49m\n\u001b[32m   2801\u001b[39m \u001b[43m      \u001b[49m\u001b[43mbackend\u001b[49m\u001b[43m,\u001b[49m\u001b[43m \u001b[49m\u001b[43mcomputation\u001b[49m\u001b[43m,\u001b[49m\u001b[43m \u001b[49m\u001b[43mdev\u001b[49m\u001b[43m,\u001b[49m\u001b[43m \u001b[49m\u001b[43mcompile_options\u001b[49m\u001b[43m,\u001b[49m\u001b[43m \u001b[49m\u001b[43mhost_callbacks\u001b[49m\u001b[43m,\u001b[49m\n\u001b[32m   2802\u001b[39m \u001b[43m      \u001b[49m\u001b[43mda\u001b[49m\u001b[43m,\u001b[49m\u001b[43m \u001b[49m\u001b[43mpgle_profiler\u001b[49m\u001b[43m)\u001b[49m\n\u001b[32m   2803\u001b[39m \u001b[38;5;28;01mreturn\u001b[39;00m xla_executable\n",
      "\u001b[36mFile \u001b[39m\u001b[32m~/opt_arm/anaconda3/envs/geko_env/lib/python3.11/site-packages/jax/_src/compiler.py:447\u001b[39m, in \u001b[36mcompile_or_get_cached\u001b[39m\u001b[34m(backend, computation, devices, compile_options, host_callbacks, executable_devices, pgle_profiler)\u001b[39m\n\u001b[32m    445\u001b[39m \u001b[38;5;28;01melse\u001b[39;00m:\n\u001b[32m    446\u001b[39m   log_persistent_cache_miss(module_name, cache_key)\n\u001b[32m--> \u001b[39m\u001b[32m447\u001b[39m   \u001b[38;5;28;01mreturn\u001b[39;00m \u001b[43m_compile_and_write_cache\u001b[49m\u001b[43m(\u001b[49m\n\u001b[32m    448\u001b[39m \u001b[43m      \u001b[49m\u001b[43mbackend\u001b[49m\u001b[43m,\u001b[49m\n\u001b[32m    449\u001b[39m \u001b[43m      \u001b[49m\u001b[43mcomputation\u001b[49m\u001b[43m,\u001b[49m\n\u001b[32m    450\u001b[39m \u001b[43m      \u001b[49m\u001b[43mexecutable_devices\u001b[49m\u001b[43m,\u001b[49m\n\u001b[32m    451\u001b[39m \u001b[43m      \u001b[49m\u001b[43mcompile_options\u001b[49m\u001b[43m,\u001b[49m\n\u001b[32m    452\u001b[39m \u001b[43m      \u001b[49m\u001b[43mhost_callbacks\u001b[49m\u001b[43m,\u001b[49m\n\u001b[32m    453\u001b[39m \u001b[43m      \u001b[49m\u001b[43mmodule_name\u001b[49m\u001b[43m,\u001b[49m\n\u001b[32m    454\u001b[39m \u001b[43m      \u001b[49m\u001b[43mcache_key\u001b[49m\u001b[43m,\u001b[49m\n\u001b[32m    455\u001b[39m \u001b[43m  \u001b[49m\u001b[43m)\u001b[49m\n",
      "\u001b[36mFile \u001b[39m\u001b[32m~/opt_arm/anaconda3/envs/geko_env/lib/python3.11/site-packages/jax/_src/compiler.py:719\u001b[39m, in \u001b[36m_compile_and_write_cache\u001b[39m\u001b[34m(backend, computation, executable_devices, compile_options, host_callbacks, module_name, cache_key)\u001b[39m\n\u001b[32m    709\u001b[39m \u001b[38;5;28;01mdef\u001b[39;00m\u001b[38;5;250m \u001b[39m\u001b[34m_compile_and_write_cache\u001b[39m(\n\u001b[32m    710\u001b[39m     backend: xc.Client,\n\u001b[32m    711\u001b[39m     computation: ir.Module,\n\u001b[32m   (...)\u001b[39m\u001b[32m    716\u001b[39m     cache_key: \u001b[38;5;28mstr\u001b[39m,\n\u001b[32m    717\u001b[39m ) -> xc.LoadedExecutable:\n\u001b[32m    718\u001b[39m   start_time = time.monotonic()\n\u001b[32m--> \u001b[39m\u001b[32m719\u001b[39m   executable = \u001b[43mbackend_compile\u001b[49m\u001b[43m(\u001b[49m\n\u001b[32m    720\u001b[39m \u001b[43m      \u001b[49m\u001b[43mbackend\u001b[49m\u001b[43m,\u001b[49m\u001b[43m \u001b[49m\u001b[43mcomputation\u001b[49m\u001b[43m,\u001b[49m\u001b[43m \u001b[49m\u001b[43mexecutable_devices\u001b[49m\u001b[43m,\u001b[49m\u001b[43m \u001b[49m\u001b[43mcompile_options\u001b[49m\u001b[43m,\u001b[49m\u001b[43m \u001b[49m\u001b[43mhost_callbacks\u001b[49m\n\u001b[32m    721\u001b[39m \u001b[43m  \u001b[49m\u001b[43m)\u001b[49m\n\u001b[32m    722\u001b[39m   compile_time = time.monotonic() - start_time\n\u001b[32m    723\u001b[39m   _cache_write(\n\u001b[32m    724\u001b[39m       cache_key, compile_time, module_name, backend, executable, host_callbacks\n\u001b[32m    725\u001b[39m   )\n",
      "\u001b[36mFile \u001b[39m\u001b[32m~/opt_arm/anaconda3/envs/geko_env/lib/python3.11/site-packages/jax/_src/profiler.py:354\u001b[39m, in \u001b[36mannotate_function.<locals>.wrapper\u001b[39m\u001b[34m(*args, **kwargs)\u001b[39m\n\u001b[32m    351\u001b[39m \u001b[38;5;129m@wraps\u001b[39m(func)\n\u001b[32m    352\u001b[39m \u001b[38;5;28;01mdef\u001b[39;00m\u001b[38;5;250m \u001b[39m\u001b[34mwrapper\u001b[39m(*args, **kwargs):\n\u001b[32m    353\u001b[39m   \u001b[38;5;28;01mwith\u001b[39;00m TraceAnnotation(name, **decorator_kwargs):\n\u001b[32m--> \u001b[39m\u001b[32m354\u001b[39m     \u001b[38;5;28;01mreturn\u001b[39;00m \u001b[43mfunc\u001b[49m\u001b[43m(\u001b[49m\u001b[43m*\u001b[49m\u001b[43margs\u001b[49m\u001b[43m,\u001b[49m\u001b[43m \u001b[49m\u001b[43m*\u001b[49m\u001b[43m*\u001b[49m\u001b[43mkwargs\u001b[49m\u001b[43m)\u001b[49m\n",
      "\u001b[36mFile \u001b[39m\u001b[32m~/opt_arm/anaconda3/envs/geko_env/lib/python3.11/site-packages/jax/_src/compiler.py:335\u001b[39m, in \u001b[36mbackend_compile\u001b[39m\u001b[34m(backend, module, executable_devices, options, host_callbacks)\u001b[39m\n\u001b[32m    326\u001b[39m     \u001b[38;5;28;01mreturn\u001b[39;00m backend.compile(\n\u001b[32m    327\u001b[39m         built_c,\n\u001b[32m    328\u001b[39m         executable_devices=executable_devices,  \u001b[38;5;66;03m# type: ignore\u001b[39;00m\n\u001b[32m    329\u001b[39m         compile_options=options,\n\u001b[32m    330\u001b[39m         host_callbacks=host_callbacks,\n\u001b[32m    331\u001b[39m     )\n\u001b[32m    332\u001b[39m   \u001b[38;5;66;03m# Some backends don't have `host_callbacks` option yet\u001b[39;00m\n\u001b[32m    333\u001b[39m   \u001b[38;5;66;03m# TODO(sharadmv): remove this fallback when all backends allow `compile`\u001b[39;00m\n\u001b[32m    334\u001b[39m   \u001b[38;5;66;03m# to take in `host_callbacks`\u001b[39;00m\n\u001b[32m--> \u001b[39m\u001b[32m335\u001b[39m   \u001b[38;5;28;01mreturn\u001b[39;00m \u001b[43mbackend\u001b[49m\u001b[43m.\u001b[49m\u001b[43mcompile\u001b[49m\u001b[43m(\u001b[49m\n\u001b[32m    336\u001b[39m \u001b[43m      \u001b[49m\u001b[43mbuilt_c\u001b[49m\u001b[43m,\u001b[49m\u001b[43m \u001b[49m\u001b[43mexecutable_devices\u001b[49m\u001b[43m=\u001b[49m\u001b[43mexecutable_devices\u001b[49m\u001b[43m,\u001b[49m\u001b[43m \u001b[49m\u001b[43mcompile_options\u001b[49m\u001b[43m=\u001b[49m\u001b[43moptions\u001b[49m\u001b[43m)\u001b[49m  \u001b[38;5;66;03m# type: ignore\u001b[39;00m\n\u001b[32m    337\u001b[39m \u001b[38;5;28;01mexcept\u001b[39;00m xc.XlaRuntimeError \u001b[38;5;28;01mas\u001b[39;00m e:\n\u001b[32m    338\u001b[39m   \u001b[38;5;28;01mfor\u001b[39;00m error_handler \u001b[38;5;129;01min\u001b[39;00m _XLA_RUNTIME_ERROR_HANDLERS:\n",
      "\u001b[31mKeyboardInterrupt\u001b[39m: "
     ]
    }
   ],
   "source": [
    "# Define parameters\n",
    "source_id = 191250                      # Source ID in your catalog\n",
    "field = 'GOODS-S-FRESCO'                      # Field name\n",
    "output_name = 'my_galaxy'              # Name of output folder\n",
    "master_catalog = '/Users/lola/ASTRO/JWST/grism_project/catalogs/fresco_Ha_cat'  # Path to master catalog\n",
    "emission_line = 'H_alpha'                   # Emission line wavelength (Angstroms, rest frame)\n",
    "parametric = True                      # Use parametric Sersic morphology\n",
    "save_runs_path = '/Users/lola/ASTRO/JWST/grism_project/testing_geko_demo/'    # Where to save results\n",
    "\n",
    "# Optional parameters (with defaults)\n",
    "grism_filter = 'F444W'                 # Grism filter\n",
    "delta_wave_cutoff = 0.005              # Wavelength bin size (microns)\n",
    "factor = 5                             # Spatial oversampling factor\n",
    "wave_factor = 10                       # Wavelength oversampling factor\n",
    "model_name = 'Disk'                    # Kinematic model type\n",
    "\n",
    "# MCMC parameters\n",
    "num_chains = 2                         # Number of MCMC chains\n",
    "num_warmup = 500                       # Warmup iterations\n",
    "num_samples = 1000                     # Sampling iterations\n",
    "\n",
    "# Run the fit (no config file needed!)\n",
    "inference_data = run_geko_fit(\n",
    "    output=output_name,\n",
    "    master_cat=master_catalog,\n",
    "    line=emission_line,\n",
    "    parametric=parametric,\n",
    "    save_runs_path=save_runs_path,\n",
    "    num_chains=num_chains,\n",
    "    num_warmup=num_warmup,\n",
    "    num_samples=num_samples,\n",
    "    source_id=source_id,               # NEW: Direct parameter\n",
    "    field=field,                        # NEW: Direct parameter\n",
    "    grism_filter=grism_filter,         # Optional\n",
    "    delta_wave_cutoff=delta_wave_cutoff,  # Optional\n",
    "    factor=factor,                      # Optional\n",
    "    wave_factor=wave_factor,            # Optional\n",
    "    model_name=model_name,              # Optional\n",
    "    config=None                         # Optional: custom configuration\n",
    ")"
   ]
  },
  {
   "cell_type": "markdown",
   "metadata": {},
   "source": [
    "### Using Custom Configuration (Optional)\n",
    "\n",
    "You can override default priors using the `FitConfiguration` class:"
   ]
  },
  {
   "cell_type": "code",
   "execution_count": null,
   "metadata": {},
   "outputs": [],
   "source": [
    "# Create custom configuration\n",
    "config = FitConfiguration()\n",
    "\n",
    "# Set custom priors for specific parameters\n",
    "config.set_prior('Va', prior_type='uniform', bounds=[50, 300])\n",
    "config.set_prior('r_t', prior_type='uniform', bounds=[0.5, 5.0])\n",
    "config.set_prior('sigma0', prior_type='uniform', bounds=[10, 150])\n",
    "\n",
    "# Print configuration summary\n",
    "config.print_summary()\n",
    "\n",
    "# Run fit with custom config\n",
    "inference_data = run_geko_fit(\n",
    "    output=output_name,\n",
    "    master_cat=master_catalog,\n",
    "    line=emission_line,\n",
    "    parametric=parametric,\n",
    "    save_runs_path=save_runs_path,\n",
    "    num_chains=num_chains,\n",
    "    num_warmup=num_warmup,\n",
    "    num_samples=num_samples,\n",
    "    config=config  # Use custom configuration\n",
    ")"
   ]
  },
  {
   "cell_type": "markdown",
   "metadata": {},
   "source": "## What Happens During the Fit\n\nThe `run_geko_fit` function automatically:\n\n1. **Preprocessing** (`run_full_preprocessing`):\n   - Loads 2D grism spectrum and error maps\n   - Loads PSF for the appropriate field\n   - Creates wavelength grid\n   - Initializes `Grism` object for dispersion modeling\n   - Initializes kinematic model (e.g., `DiskModel`)\n\n2. **Prior Setup** (if `parametric=True`):\n   - Loads PySersic morphology results\n   - Extracts integrated emission line flux from master catalog\n   - Sets morphological priors based on imaging data\n\n3. **MCMC Sampling**:\n   - Creates `Fit_Numpyro` instance\n   - Runs NUTS sampler with specified chains, warmup, and samples\n   - Applies custom configuration if provided\n\n4. **Output**:\n   - Returns `arviz.InferenceData` object with posterior samples\n   - Saves results to `<save_runs_path>/<source_id>_output`\n\n## Analyzing Results\n\nAfter the fit completes, you can analyze the results:"
  },
  {
   "cell_type": "code",
   "execution_count": null,
   "metadata": {},
   "outputs": [],
   "source": [
    "import arviz as az\n",
    "import matplotlib.pyplot as plt\n",
    "\n",
    "# Summary statistics\n",
    "print(az.summary(inference_data))\n",
    "\n",
    "# Trace plots\n",
    "az.plot_trace(inference_data)\n",
    "plt.tight_layout()\n",
    "plt.show()\n",
    "\n",
    "# Corner plot\n",
    "import corner\n",
    "samples = az.extract(inference_data, num_samples=1000)\n",
    "# Convert to numpy and create corner plot\n",
    "# corner.corner(samples)"
   ]
  },
  {
   "cell_type": "markdown",
   "metadata": {},
   "source": [
    "## Common Emission Lines\n",
    "\n",
    "For the `line` parameter, use rest-frame wavelengths in Angstroms:\n",
    "\n",
    "- **H-alpha**: 6562.8 Å\n",
    "- **H-beta**: 4861.3 Å  \n",
    "- **[OIII]**: 5006.8 Å\n",
    "- **[OII]**: 3727.0 Å\n",
    "\n",
    "The code will automatically calculate the observed wavelength based on the redshift in your master catalog.\n",
    "\n",
    "## Tips for Success\n",
    "\n",
    "1. **Check your data quality**: Ensure grism spectra have good S/N\n",
    "2. **Set appropriate priors**: Use photometric measurements to constrain morphology\n",
    "3. **Run sufficient samples**: Typically 1000-5000 samples after warmup\n",
    "4. **Monitor convergence**: Check R-hat values < 1.01\n",
    "5. **Validate results**: Inspect model residuals and posterior distributions"
   ]
  }
 ],
 "metadata": {
  "kernelspec": {
   "display_name": "Python 3",
   "language": "python",
   "name": "python3"
  },
  "language_info": {
   "codemirror_mode": {
    "name": "ipython",
    "version": 3
   },
   "file_extension": ".py",
   "mimetype": "text/x-python",
   "name": "python",
   "nbconvert_exporter": "python",
   "pygments_lexer": "ipython3",
   "version": "3.11.0"
  }
 },
 "nbformat": 4,
 "nbformat_minor": 4
}