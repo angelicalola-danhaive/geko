{
 "cells": [
  {
   "cell_type": "markdown",
   "metadata": {},
   "source": [
    "# Simple Geko Demo: Fitting One Object\n",
    "\n",
    "This notebook demonstrates how to use `geko` to fit a single galaxy observation using grism spectroscopy data.\n",
    "\n",
    "## Overview\n",
    "\n",
    "`geko` is a Python package for analyzing JWST grism spectroscopy and morphology data. It uses:\n",
    "- **JAX** for accelerated numerical computation\n",
    "- **Numpyro** for Bayesian inference via MCMC\n",
    "- **Kinematic models** to fit galaxy rotation curves"
   ]
  },
  {
   "cell_type": "markdown",
   "metadata": {},
   "source": [
    "## 1. Setup and Imports"
   ]
  },
  {
   "cell_type": "code",
   "execution_count": null,
   "metadata": {},
   "outputs": [],
   "source": [
    "import numpy as np\n",
    "import matplotlib.pyplot as plt\n",
    "import jax.numpy as jnp\n",
    "from astropy.io import fits\n",
    "\n",
    "# Import geko modules\n",
    "from geko.grism import Grism\n",
    "from geko.models import KinModels\n",
    "from geko.fitting import Fit_Numpyro\n",
    "\n",
    "# JAX configuration (enable 64-bit precision)\n",
    "import jax\n",
    "jax.config.update('jax_enable_x64', True)\n",
    "\n",
    "print(\"Imports successful!\")"
   ]
  },
  {
   "cell_type": "markdown",
   "metadata": {},
   "source": [
    "## 2. Create Mock Data\n",
    "\n",
    "For this demo, we'll create simple mock observations. In a real scenario, you would load your JWST grism data from FITS files."
   ]
  },
  {
   "cell_type": "code",
   "execution_count": null,
   "metadata": {},
   "outputs": [],
   "source": [
    "# Define observation parameters\n",
    "im_size = 45  # Image size in pixels (model space)\n",
    "im_scale = 0.0629 / 5  # Pixel scale (arcsec/pixel), oversampled 5x from detector\n",
    "center_pixel = im_size // 2  # Center of the galaxy\n",
    "\n",
    "# Wavelength setup\n",
    "central_wavelength = 4.0  # microns\n",
    "wave_space = np.arange(central_wavelength - 0.05, \n",
    "                       central_wavelength + 0.05 + 0.0001, \n",
    "                       0.0001)  # High-resolution wavelength grid\n",
    "\n",
    "print(f\"Image size: {im_size}x{im_size} pixels\")\n",
    "print(f\"Pixel scale: {im_scale:.5f} arcsec/pixel\")\n",
    "print(f\"Central wavelength: {central_wavelength} μm\")\n",
    "print(f\"Wavelength range: {wave_space.min():.3f} - {wave_space.max():.3f} μm\")\n",
    "print(f\"Number of wavelength bins: {len(wave_space)}\")"
   ]
  },
  {
   "cell_type": "code",
   "execution_count": null,
   "metadata": {},
   "outputs": [],
   "source": [
    "# Create a simple PSF (Point Spread Function)\n",
    "# In practice, you would use a measured JWST PSF\n",
    "PSF = np.zeros((5, 5))\n",
    "PSF[2, 2] = 1.0  # Delta function PSF for simplicity\n",
    "\n",
    "# Create mock observed grism spectrum (2D)\n",
    "# This would come from your JWST data reduction pipeline\n",
    "obs_grism = np.random.randn(im_size, im_size) * 0.01  # Small noise\n",
    "\n",
    "# Add a simple \"signal\" - a Gaussian source at the center\n",
    "y, x = np.ogrid[:im_size, :im_size]\n",
    "gaussian_source = np.exp(-((x - center_pixel)**2 + (y - center_pixel)**2) / (2 * 3**2))\n",
    "obs_grism += gaussian_source * 0.5\n",
    "\n",
    "# Create error map (uncertainty in each pixel)\n",
    "obs_error = np.ones_like(obs_grism) * 0.05  # Constant 5% error for simplicity\n",
    "\n",
    "# Visualize the mock observation\n",
    "fig, axes = plt.subplots(1, 2, figsize=(12, 5))\n",
    "\n",
    "im0 = axes[0].imshow(obs_grism, origin='lower', cmap='viridis')\n",
    "axes[0].set_title('Mock Grism Observation')\n",
    "axes[0].set_xlabel('Pixel (dispersion direction)')\n",
    "axes[0].set_ylabel('Pixel (spatial direction)')\n",
    "plt.colorbar(im0, ax=axes[0], label='Flux')\n",
    "\n",
    "im1 = axes[1].imshow(obs_error, origin='lower', cmap='magma')\n",
    "axes[1].set_title('Error Map')\n",
    "axes[1].set_xlabel('Pixel (dispersion direction)')\n",
    "axes[1].set_ylabel('Pixel (spatial direction)')\n",
    "plt.colorbar(im1, ax=axes[1], label='Uncertainty')\n",
    "\n",
    "plt.tight_layout()\n",
    "plt.show()"
   ]
  },
  {
   "cell_type": "markdown",
   "metadata": {},
   "source": [
    "## 3. Initialize Grism Object\n",
    "\n",
    "The `Grism` class handles the dispersion model and wavelength calibration for JWST NIRCam grism observations."
   ]
  },
  {
   "cell_type": "code",
   "execution_count": null,
   "metadata": {},
   "outputs": [],
   "source": [
    "# Initialize the Grism object\n",
    "grism = Grism(\n",
    "    im_shape=im_size,\n",
    "    im_scale=im_scale,\n",
    "    icenter=center_pixel,\n",
    "    jcenter=center_pixel,\n",
    "    wavelength=central_wavelength,\n",
    "    wave_space=wave_space,\n",
    "    index_min=0,\n",
    "    index_max=len(wave_space),\n",
    "    grism_filter='F444W',  # NIRCam filter\n",
    "    grism_module='A',      # NIRCam module A\n",
    "    grism_pupil='R',       # Grism R (row dispersion)\n",
    "    PSF=PSF\n",
    ")\n",
    "\n",
    "print(f\"Grism object initialized!\")\n",
    "print(f\"Detector scale: {grism.detector_scale:.4f} arcsec/pixel\")\n",
    "print(f\"Oversampling factor: {grism.factor}x\")"
   ]
  },
  {
   "cell_type": "markdown",
   "metadata": {},
   "source": [
    "## 4. Test Grism Dispersion\n",
    "\n",
    "Let's test the grism dispersion model by dispersing a simple source."
   ]
  },
  {
   "cell_type": "code",
   "execution_count": null,
   "metadata": {},
   "outputs": [],
   "source": [
    "# Create a simple test: point source with no velocity\n",
    "test_flux = np.zeros((im_size, im_size))\n",
    "test_flux[center_pixel, center_pixel] = 1.0\n",
    "\n",
    "test_vel = np.zeros((im_size, im_size))  # No velocity\n",
    "test_disp = np.zeros((im_size, im_size))  # No velocity dispersion\n",
    "\n",
    "# Disperse the source\n",
    "dispersed = grism.disperse(test_flux, test_vel, test_disp)\n",
    "\n",
    "# Visualize\n",
    "plt.figure(figsize=(10, 4))\n",
    "plt.subplot(121)\n",
    "plt.imshow(test_flux, origin='lower', cmap='viridis')\n",
    "plt.title('Input: Point Source')\n",
    "plt.colorbar(label='Flux')\n",
    "\n",
    "plt.subplot(122)\n",
    "plt.imshow(dispersed, origin='lower', cmap='viridis')\n",
    "plt.title('Output: Dispersed Spectrum')\n",
    "plt.colorbar(label='Flux')\n",
    "\n",
    "plt.tight_layout()\n",
    "plt.show()\n",
    "\n",
    "print(f\"Flux conservation check: Input = {test_flux.sum():.6f}, Output = {dispersed.sum():.6f}\")"
   ]
  },
  {
   "cell_type": "markdown",
   "metadata": {},
   "source": [
    "## 5. Initialize Kinematic Model\n",
    "\n",
    "The `KinModels` class defines the kinematic model for the galaxy (e.g., rotation curve, morphology)."
   ]
  },
  {
   "cell_type": "code",
   "execution_count": null,
   "metadata": {},
   "outputs": [],
   "source": [
    "# Create kinematic model\n",
    "redshift = 2.0  # Example redshift\n",
    "\n",
    "kin_model = KinModels(\n",
    "    im_shape=im_size,\n",
    "    im_scale=im_scale,\n",
    "    grism_object=grism,\n",
    "    z=redshift,\n",
    "    line=6562.8,  # H-alpha line in Angstroms\n",
    "    par_fit=True,  # Use parametric morphology\n",
    "    PA_prior=[90, 30],  # Position angle prior [mean, std] in degrees\n",
    "    i_prior=[45, 20],   # Inclination prior [mean, std] in degrees\n",
    "    z_prior=[redshift, 0.01]  # Redshift prior [mean, std]\n",
    ")\n",
    "\n",
    "print(f\"Kinematic model initialized for z={redshift}\")\n",
    "print(f\"Emission line: H-alpha at {6562.8} Å (rest frame)\")\n",
    "print(f\"Observed wavelength: {6562.8 * (1 + redshift) / 1e4:.3f} μm\")"
   ]
  },
  {
   "cell_type": "markdown",
   "metadata": {},
   "source": [
    "## 6. Set Up the Fitter\n",
    "\n",
    "The `Fit_Numpyro` class performs Bayesian inference using MCMC to fit the model to the data."
   ]
  },
  {
   "cell_type": "code",
   "execution_count": null,
   "metadata": {},
   "outputs": [],
   "source": [
    "# Initialize the fitter\n",
    "fitter = Fit_Numpyro(\n",
    "    obs_map=obs_grism,\n",
    "    obs_error=obs_error,\n",
    "    grism_object=grism,\n",
    "    kin_model=kin_model,\n",
    "    inference_data=None,  # No previous results\n",
    "    parametric=True  # Use parametric Sersic profile\n",
    ")\n",
    "\n",
    "print(\"Fitter initialized!\")\n",
    "print(f\"Observation shape: {fitter.obs_map.shape}\")\n",
    "print(f\"Number of valid pixels (S/N > 5): {fitter.mask.sum()}\")"
   ]
  },
  {
   "cell_type": "markdown",
   "metadata": {},
   "source": [
    "## 7. Run the Fit (Optional)\n",
    "\n",
    "**Note:** Running a full MCMC fit can take significant time. This section is commented out but shows how you would run the fit.\n",
    "\n",
    "```python\n",
    "# Run MCMC sampling\n",
    "fitter.run_inference(\n",
    "    num_warmup=500,\n",
    "    num_samples=1000,\n",
    "    num_chains=2\n",
    ")\n",
    "\n",
    "# Get results\n",
    "samples = fitter.get_samples()\n",
    "print(\"Parameter posterior samples:\", samples.keys())\n",
    "\n",
    "# Plot corner plot\n",
    "fitter.plot_corner()\n",
    "```"
   ]
  },
  {
   "cell_type": "markdown",
   "metadata": {},
   "source": [
    "## Summary\n",
    "\n",
    "This notebook demonstrated:\n",
    "1. Setting up mock JWST grism observations\n",
    "2. Initializing the `Grism` dispersion model\n",
    "3. Testing grism dispersion on a point source\n",
    "4. Setting up kinematic models for galaxy fitting\n",
    "5. Preparing data for Bayesian MCMC fitting\n",
    "\n",
    "### Next Steps\n",
    "\n",
    "For real science applications:\n",
    "- Load actual JWST grism data from FITS files\n",
    "- Use measured PSF models for your filter\n",
    "- Set appropriate priors based on photometric measurements\n",
    "- Run MCMC with sufficient samples (typically 1000-5000)\n",
    "- Analyze posterior distributions and model residuals\n",
    "- Extract physical quantities (rotation velocity, disk scale length, etc.)"
   ]
  }
 ],
 "metadata": {
  "kernelspec": {
   "display_name": "Python 3",
   "language": "python",
   "name": "python3"
  },
  "language_info": {
   "codemirror_mode": {
    "name": "ipython",
    "version": 3
   },
   "file_extension": ".py",
   "mimetype": "text/x-python",
   "name": "python",
   "nbconvert_exporter": "python",
   "pygments_lexer": "ipython3",
   "version": "3.11.0"
  }
 },
 "nbformat": 4,
 "nbformat_minor": 4
}
