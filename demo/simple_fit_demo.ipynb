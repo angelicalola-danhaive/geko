{
 "cells": [
  {
   "cell_type": "markdown",
   "metadata": {},
   "source": "# Geko Fitting Demo: Simplified Usage\n\nThis notebook demonstrates how to use `geko` to fit JWST grism spectroscopy data using a simple Python interface.\n\n## Overview\n\n`geko` is a Python package for analyzing JWST grism spectroscopy and morphology data. It uses:\n- **JAX** for accelerated numerical computation\n- **Numpyro** for Bayesian inference via MCMC\n- **Kinematic models** to fit galaxy rotation curves\n\n## Required Data Structure\n\nAll data files should be organized in a single base directory (specified by `save_runs_path`). The code expects the following structure:\n\n### Directory Structure\n\n```\n<save_runs_path>/                     # Base directory (e.g., 'fitting_results/')\n├── <output_name>/                    # Subfolder for your specific galaxy/run\n│   ├── spec_2d_*_ID<ID>_comb.fits    # 2D grism spectrum (required)\n│   └── <ID>_output                   # Fit results (generated after run)\n├── morph_fits/                       # Morphology results directory\n│   └── summary_<ID>_image_F150W_svi.cat  # PySersic Sersic profile fits\n├── psfs/                             # PSF files directory\n│   ├── mpsf_jw018950.gn.f444w.fits   # PSF for GOODS-N\n│   ├── mpsf_jw035770.f356w.fits      # PSF for GOODS-N-CONGRESS\n│   └── mpsf_jw018950.gs.f444w.fits   # PSF for GOODS-S-FRESCO\n│   └── <your_custom_psf>.fits        # Your custom PSF (if using field='manual')\n└── catalogs/                         # Optional: catalog directory\n    └── <master_catalog>.cat          # Master catalog (can be anywhere)\n```\n\n**Example with predefined field**: If you set:\n- `save_runs_path='/path/to/data/'`\n- `output_name='my_galaxy'`\n- `source_id=12345`\n- `field='GOODS-N'`\n\nThe code will look for:\n- Grism spectrum: `/path/to/data/my_galaxy/spec_2d_GDN_F444W_ID12345_comb.fits`\n- Morphology: `/path/to/data/morph_fits/summary_12345_image_F150W_svi.cat`\n- PSF: `/path/to/data/psfs/mpsf_jw018950.gn.f444w.fits`\n- Results saved to: `/path/to/data/my_galaxy/12345_output`\n\n**Example with manual field**: If you set:\n- `save_runs_path='/path/to/data/'`\n- `output_name='my_galaxy'`\n- `source_id=12345`\n- `field='manual'`\n- `manual_grism_file='my_grism_spectrum.fits'`\n- `manual_psf_name='my_psf.fits'`\n- `manual_pysersic_file='my_morphology.cat'`\n- `manual_theta_rot=45.0`\n\nThe code will look for:\n- Grism spectrum: `/path/to/data/my_galaxy/my_grism_spectrum.fits`\n- Morphology: `/path/to/data/morph_fits/my_morphology.cat`\n- PSF: `/path/to/data/psfs/my_psf.fits`\n- Rotation angle: 45.0 degrees\n\n### Required Files\n\n#### 1. Master Catalog File\n\nAn ASCII table containing source properties. Path specified as `master_cat` parameter (can be located anywhere).\n\nRequired columns:\n- `ID`: Source identifier (must match your `source_id`)\n- `zspec`: Spectroscopic redshift\n- `<line>_lambda`: Observed wavelength of emission line (e.g., `H_alpha_lambda` for H-alpha at 6562.8 Å)\n- `fit_flux_cgs`: Log of integrated emission line flux (log erg/s/cm²)\n- `fit_flux_cgs_e`: Error on log flux\n\n#### 2. Grism Spectrum FITS File\n\nLocated at: `<save_runs_path>/<output_name>/spec_2d_*_ID<source_id>_comb.fits` (or custom filename if `field='manual'`)\n\nFile naming convention depends on the field:\n- **GOODS-N**: `spec_2d_GDN_F444W_ID<source_id>_comb.fits`\n- **GOODS-N-CONGRESS**: `spec_2d_GDN_F356W_ID<source_id>_comb.fits`\n- **GOODS-S-FRESCO**: `spec_2d_FRESCO_F444W_ID<source_id>_comb.fits`\n- **manual**: Specify your own filename via `manual_grism_file` parameter\n\nThe FITS file should contain:\n- Extension 0: 2D spectrum data (flux vs wavelength and spatial position)\n- Extension 1: Error/uncertainty map\n- WCS information for wavelength calibration\n\n#### 3. PySersic Morphology File\n\nLocated at: `<save_runs_path>/morph_fits/summary_<source_id>_image_F150W_svi.cat` (or custom if `field='manual'`)\n\nASCII catalog from [PySersic](https://github.com/astropath/pysersic) fits containing:\n- Sersic index (n)\n- Effective radius (r_eff)\n- Position angle (PA)\n- Axis ratio (q)\n- Centroid positions (x0, y0)\n\nThese morphological parameters are used to set priors for the kinematic fitting.\n\n#### 4. PSF Files\n\nLocated at: `<save_runs_path>/psfs/mpsf_*.fits` (or custom if `field='manual'`)\n\nField-specific point spread function FITS files:\n- `mpsf_jw018950.gn.f444w.fits` for GOODS-N\n- `mpsf_jw035770.f356w.fits` for GOODS-N-CONGRESS  \n- `mpsf_jw018950.gs.f444w.fits` for GOODS-S-FRESCO\n- Or specify your own via `manual_psf_name` parameter if `field='manual'`\n\nThe code automatically selects the appropriate PSF based on the `field` parameter, or uses your specified PSF if `field='manual'`.\n\n#### 5. Rotation Angle (theta)\n\nThe rotation angle aligns the morphological model (from imaging) with the grism orientation:\n- **GOODS-N**: 230.5098 degrees\n- **GOODS-N-CONGRESS**: 228.22379 degrees\n- **GOODS-S-FRESCO**: 0.0 degrees\n- **manual**: Specify via `manual_theta_rot` parameter\n\n## Field Options\n\nYou can use either predefined fields or manual mode:\n\n### Predefined Fields\n- `field='GOODS-N'`\n- `field='GOODS-N-CONGRESS'`\n- `field='GOODS-S-FRESCO'`\n\nThese automatically select the appropriate PSF, file naming convention, and rotation angle.\n\n### Manual Field\n- `field='manual'`\n\nWhen using manual mode, you must provide:\n- `manual_psf_name`: PSF filename (in `psfs/` directory)\n- `manual_theta_rot`: Rotation angle in degrees\n- `manual_pysersic_file`: PySersic results filename (in `morph_fits/` directory)\n- `manual_grism_file`: Grism spectrum filename (in `output/` directory)"
  },
  {
   "cell_type": "markdown",
   "metadata": {},
   "source": [
    "## Running the Fit\n",
    "\n",
    "Once you have prepared all required files, running the fit is straightforward:"
   ]
  },
  {
   "cell_type": "code",
   "execution_count": 1,
   "metadata": {},
   "outputs": [
    {
     "name": "stdout",
     "output_type": "stream",
     "text": [
      "Imports successful!\n"
     ]
    }
   ],
   "source": [
    "# Import required modules\n",
    "from geko.fitting import run_geko_fit\n",
    "from geko.config import FitConfiguration\n",
    "\n",
    "# JAX configuration\n",
    "import jax\n",
    "jax.config.update('jax_enable_x64', True)\n",
    "\n",
    "print(\"Imports successful!\")"
   ]
  },
  {
   "cell_type": "markdown",
   "metadata": {},
   "source": [
    "### Basic Usage"
   ]
  },
  {
   "cell_type": "code",
   "execution_count": null,
   "metadata": {},
   "outputs": [],
   "source": "# Define parameters\nsource_id = 191250                      # Source ID in your catalog\nfield = 'manual'                        # Field name: use 'manual' to specify custom files\noutput_name = 'my_galaxy'              # Name of output folder\nmaster_catalog = '/Users/lola/ASTRO/JWST/grism_project/testing_geko_demo/catalogs/my_galaxies_cat'  # Path to master catalog\nemission_line = 'H_alpha'                   # Emission line wavelength (Angstroms, rest frame)\nparametric = True                      # Use parametric Sersic morphology\nsave_runs_path = '/Users/lola/ASTRO/JWST/grism_project/testing_geko_demo/'    # Where to save results\n\n# Manual field parameters (required when field='manual')\nmanual_psf_name = 'mpsf_jw018950.gs.f444w.fits'           # PSF filename in psfs/ directory\nmanual_theta_rot = 0.0                                     # Rotation angle in degrees (GOODS-S value)\nmanual_pysersic_file = 'summary_191250_image_F150W_svi.cat'  # PySersic file in morph_fits/\nmanual_grism_file = 'spec_2d_FRESCO_F444W_ID191250_comb.fits'  # Grism spectrum in output/ directory\n\n# Optional parameters (with defaults)\ngrism_filter = 'F444W'                 # Grism filter\ndelta_wave_cutoff = 0.02             # Wavelength bin size (microns)\nfactor = 3                             # Spatial oversampling factor\nwave_factor = 4                       # Wavelength oversampling factor\nmodel_name = 'Disk'                    # Kinematic model type\n\n# MCMC parameters\nnum_chains = 1                       # Number of MCMC chains\nnum_warmup = 5                       # Warmup iterations\nnum_samples = 20                     # Sampling iterations"
  },
  {
   "cell_type": "code",
   "execution_count": null,
   "metadata": {},
   "outputs": [],
   "source": "# Run the fit with manual field option\ninference_data = run_geko_fit(\n    output=output_name,\n    master_cat=master_catalog,\n    line=emission_line,\n    parametric=parametric,\n    save_runs_path=save_runs_path,\n    num_chains=num_chains,\n    num_warmup=num_warmup,\n    num_samples=num_samples,\n    source_id=source_id,\n    field=field,                        # 'manual' mode\n    grism_filter=grism_filter,\n    delta_wave_cutoff=delta_wave_cutoff,\n    factor=factor,\n    wave_factor=wave_factor,\n    model_name=model_name,\n    config=None,                        # Optional: custom configuration\n    # Manual field parameters (required when field='manual')\n    manual_psf_name=manual_psf_name,\n    manual_theta_rot=manual_theta_rot,\n    manual_pysersic_file=manual_pysersic_file,\n    manual_grism_file=manual_grism_file\n)"
  },
  {
   "cell_type": "markdown",
   "metadata": {},
   "source": [
    "### Using Custom Configuration (Optional)\n",
    "\n",
    "You can set custom priors using the `FitConfiguration` class. \n",
    "\n",
    "**Config contains:**\n",
    "- **Morphology priors**: No defaults - must come from PySersic or manual specification\n",
    "- **Kinematic priors**: Have defaults but can be overridden\n",
    "- **MCMC settings**: Have defaults but can be overridden\n",
    "\n",
    "**Scenario 1: You have PySersic fits (typical)**\n",
    "- PySersic priors are loaded automatically for morphology\n",
    "- You can optionally provide a config to override kinematic priors (Va, sigma0 ranges)\n",
    "- Morphology stays from PySersic unless you explicitly set it in config\n",
    "\n",
    "**Scenario 2: You don't have PySersic fits (rare)**\n",
    "- You **must** provide a config with all morphology priors explicitly set\n",
    "- Error will be raised if morphology priors are missing\n",
    "- You can still override kinematic priors if desired"
   ]
  },
  {
   "cell_type": "code",
   "execution_count": null,
   "metadata": {},
   "outputs": [],
   "source": "## Example 1: Override kinematic priors (you have PySersic fits)\n# Only override the kinematic priors, keep PySersic morphology\nfrom geko.config import FitConfiguration, KinematicPriors\n\nconfig = FitConfiguration(\n    kinematics=KinematicPriors(\n        Va_min=50.0,        # Minimum asymptotic velocity (km/s)\n        Va_max=300.0,       # Maximum asymptotic velocity (km/s)\n        sigma0_min=10.0,    # Minimum velocity dispersion (km/s)\n        sigma0_max=150.0    # Maximum velocity dispersion (km/s)\n    )\n)\n\n# Morphology is None - will use PySersic values automatically\nprint(\"Kinematic priors will be overridden, morphology will come from PySersic\")\nconfig.print_summary()\n\n# Run fit - PySersic morphology + custom kinematic priors\n# inference_data_selective = run_geko_fit(\n#     output=output_name,\n#     master_cat=master_catalog,\n#     line=emission_line,\n#     parametric=parametric,\n#     save_runs_path=save_runs_path,\n#     num_chains=num_chains,\n#     num_warmup=num_warmup,\n#     num_samples=num_samples,\n#     source_id=source_id,\n#     field=field,\n#     config=config,  # Kinematic override only\n#     manual_psf_name=manual_psf_name,\n#     manual_theta_rot=manual_theta_rot,\n#     manual_pysersic_file=manual_pysersic_file,\n#     manual_grism_file=manual_grism_file\n# )\n\n## Example 2: Complete config with morphology (no PySersic available)\n# Set all morphology manually but keep the default kinematic priors\nfrom geko.config import MorphologyPriors\n\nconfig_full = FitConfiguration(\n    morphology=MorphologyPriors(\n        # Position angle (degrees) - normal prior\n        PA_mean=90.0,\n        PA_std=30.0,\n        # Inclination (degrees) - truncated normal prior\n        inc_mean=55.0,\n        inc_std=15.0,\n        # Effective radius (pixels) - truncated normal\n        r_eff_mean=3.0,\n        r_eff_std=1.0,\n        r_eff_min=0.5,\n        r_eff_max=10.0,\n        # Sersic index - truncated normal\n        n_mean=1.0,\n        n_std=0.5,\n        n_min=0.5,\n        n_max=4.0,\n        # Central coordinates (pixels) - normal\n        xc_mean=0.0,\n        xc_std=2.0,\n        yc_mean=0.0,\n        yc_std=2.0,\n        # Amplitude - truncated normal\n        amplitude_mean=100.0,\n        amplitude_std=50.0,\n        amplitude_min=1.0,\n        amplitude_max=1000.0\n    )\n)\n\nprint(\"\\nComplete config set - can run without PySersic file\")\nconfig_full.print_summary()\n\n# This would work even without a PySersic file\n# Run fit with complete morphology config\ninference_data_selective = run_geko_fit(\n    output=output_name,\n    master_cat=master_catalog,\n    line=emission_line,\n    parametric=parametric,\n    save_runs_path=save_runs_path,\n    num_chains=num_chains,\n    num_warmup=num_warmup,\n    num_samples=num_samples,\n    source_id=source_id,\n    field=field,\n    config=config_full,  # Complete morphology config\n    manual_psf_name=manual_psf_name,\n    manual_theta_rot=manual_theta_rot,\n    manual_pysersic_file=manual_pysersic_file,\n    manual_grism_file=manual_grism_file\n)"
  },
  {
   "cell_type": "markdown",
   "metadata": {},
   "source": [
    "## What Happens During the Fit\n",
    "\n",
    "The `run_geko_fit` function automatically:\n",
    "\n",
    "1. **Preprocessing** (`run_full_preprocessing`):\n",
    "   - Loads 2D grism spectrum and error maps\n",
    "   - Loads PSF for the appropriate field\n",
    "   - Creates wavelength grid\n",
    "   - Initializes `Grism` object for dispersion modeling\n",
    "   - Initializes kinematic model (e.g., `DiskModel`)\n",
    "\n",
    "2. **Prior Setup** (if `parametric=True`):\n",
    "   - Loads PySersic morphology results from `morph_fits/` directory\n",
    "   - Extracts integrated emission line flux from master catalog\n",
    "   - Sets morphological priors (position angle, inclination, etc.) based on imaging data\n",
    "   - Applies field-specific rotation corrections to align coordinate systems\n",
    "\n",
    "3. **MCMC Sampling**:\n",
    "   - Creates `Fit_Numpyro` instance with observation data\n",
    "   - Runs NUTS (No-U-Turn Sampler) with specified chains, warmup, and samples\n",
    "   - Applies custom configuration if provided via `config` parameter\n",
    "   - Creates source mask to focus on high S/N regions\n",
    "\n",
    "4. **Postprocessing** (`process_results`):\n",
    "   - Computes best-fit kinematic model\n",
    "   - Calculates velocity at effective radius (v_re)\n",
    "   - Generates diagnostic plots and summary statistics\n",
    "   - Saves fit results and plots to output directory\n",
    "\n",
    "5. **Output**:\n",
    "   - Returns `arviz.InferenceData` object with posterior samples\n",
    "   - Saves MCMC results to `<save_runs_path>/<output_name>/<source_id>_output`\n",
    "   - Saves plots and summary tables to the same directory\n",
    "\n",
    "## Analyzing Results\n",
    "\n",
    "After the fit completes, you can analyze the results:"
   ]
  },
  {
   "cell_type": "code",
   "execution_count": null,
   "metadata": {},
   "outputs": [],
   "source": [
    "import arviz as az\n",
    "import matplotlib.pyplot as plt\n",
    "\n",
    "# Summary statistics\n",
    "print(az.summary(inference_data))\n",
    "\n",
    "# Trace plots\n",
    "az.plot_trace(inference_data)\n",
    "plt.tight_layout()\n",
    "plt.show()\n",
    "\n",
    "# Corner plot\n",
    "import corner\n",
    "samples = az.extract(inference_data, num_samples=1000)\n",
    "# Convert to numpy and create corner plot\n",
    "# corner.corner(samples)"
   ]
  },
  {
   "cell_type": "markdown",
   "metadata": {},
   "source": [
    "## Common Emission Lines\n",
    "\n",
    "For the `line` parameter, use rest-frame wavelengths in Angstroms:\n",
    "\n",
    "- **H-alpha**: 6562.8 Å\n",
    "- **H-beta**: 4861.3 Å  \n",
    "- **[OIII]**: 5006.8 Å\n",
    "- **[OII]**: 3727.0 Å\n",
    "\n",
    "The code will automatically calculate the observed wavelength based on the redshift in your master catalog.\n",
    "\n",
    "## Tips for Success\n",
    "\n",
    "1. **Check your data quality**: Ensure grism spectra have good S/N\n",
    "2. **Set appropriate priors**: Use photometric measurements to constrain morphology\n",
    "3. **Run sufficient samples**: Typically 1000-5000 samples after warmup\n",
    "4. **Monitor convergence**: Check R-hat values < 1.01\n",
    "5. **Validate results**: Inspect model residuals and posterior distributions"
   ]
  }
 ],
 "metadata": {
  "kernelspec": {
   "display_name": "Python 3",
   "language": "python",
   "name": "python3"
  },
  "language_info": {
   "codemirror_mode": {
    "name": "ipython",
    "version": 3
   },
   "file_extension": ".py",
   "mimetype": "text/x-python",
   "name": "python",
   "nbconvert_exporter": "python",
   "pygments_lexer": "ipython3",
   "version": "3.11.0"
  }
 },
 "nbformat": 4,
 "nbformat_minor": 4
}