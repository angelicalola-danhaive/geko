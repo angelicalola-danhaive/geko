{
 "cells": [
  {
   "cell_type": "markdown",
   "metadata": {},
   "source": "# Geko Fitting Demo: Simplified Usage\n\nThis notebook demonstrates how to use `geko` to fit JWST grism spectroscopy data using a simple Python interface.\n\n## Overview\n\n`geko` is a Python package for analyzing JWST grism spectroscopy and morphology data. It uses:\n- **JAX** for accelerated numerical computation\n- **Numpyro** for Bayesian inference via MCMC\n- **Kinematic models** to fit galaxy rotation curves\n\n## Required Data Structure\n\nAll data files should be organized in a single base directory (specified by `save_runs_path`). The code expects the following structure:\n\n### Directory Structure\n\n```\n<save_runs_path>/                     # Base directory (e.g., 'fitting_results/')\n├── <output_name>/                    # Subfolder for your specific galaxy/run\n│   ├── spec_2d_*_ID<ID>_comb.fits    # 2D grism spectrum (required)\n│   └── <ID>_output                   # Fit results (generated after run)\n├── morph_fits/                       # Morphology results directory\n│   └── summary_<ID>_image_F150W_svi.cat  # PySersic Sersic profile fits\n├── psfs/                             # PSF files directory\n│   ├── mpsf_jw018950.gn.f444w.fits   # PSF for GOODS-N\n│   ├── mpsf_jw035770.f356w.fits      # PSF for GOODS-N-CONGRESS\n│   └── mpsf_jw018950.gs.f444w.fits   # PSF for GOODS-S-FRESCO\n└── catalogs/                         # Optional: catalog directory\n    └── <master_catalog>.cat          # Master catalog (can be anywhere)\n```\n\n**Example**: If you set:\n- `save_runs_path='/path/to/data/'`\n- `output_name='my_galaxy'`\n- `source_id=12345`\n- `field='GOODS-N'`\n\nThe code will look for:\n- Grism spectrum: `/path/to/data/my_galaxy/spec_2d_GDN_F444W_ID12345_comb.fits`\n- Morphology: `/path/to/data/morph_fits/summary_12345_image_F150W_svi.cat`\n- PSF: `/path/to/data/psfs/mpsf_jw018950.gn.f444w.fits`\n- Results saved to: `/path/to/data/my_galaxy/12345_output`\n\n### Required Files\n\n#### 1. Master Catalog File\n\nAn ASCII table containing source properties. Path specified as `master_cat` parameter (can be located anywhere).\n\nRequired columns:\n- `ID`: Source identifier (must match your `source_id`)\n- `zspec`: Spectroscopic redshift\n- `<line>_lambda`: Observed wavelength of emission line (e.g., `H_alpha_lambda` for H-alpha at 6562.8 Å)\n- `fit_flux_cgs`: Log of integrated emission line flux (log erg/s/cm²)\n- `fit_flux_cgs_e`: Error on log flux\n\n#### 2. Grism Spectrum FITS File\n\nLocated at: `<save_runs_path>/<output_name>/spec_2d_*_ID<source_id>_comb.fits`\n\nFile naming convention depends on the field:\n- **GOODS-N**: `spec_2d_GDN_F444W_ID<source_id>_comb.fits`\n- **GOODS-N-CONGRESS**: `spec_2d_GDN_F356W_ID<source_id>_comb.fits`\n- **GOODS-S-FRESCO**: `spec_2d_FRESCO_F444W_ID<source_id>_comb.fits`\n\nThe FITS file should contain:\n- Extension 0: 2D spectrum data (flux vs wavelength and spatial position)\n- Extension 1: Error/uncertainty map\n- WCS information for wavelength calibration\n\n#### 3. PySersic Morphology File\n\nLocated at: `<save_runs_path>/morph_fits/summary_<source_id>_image_F150W_svi.cat` (or `F182M`)\n\nASCII catalog from [PySersic](https://github.com/astropath/pysersic) fits containing:\n- Sersic index (n)\n- Effective radius (r_eff)\n- Position angle (PA)\n- Axis ratio (q)\n- Centroid positions (x0, y0)\n\nThese morphological parameters are used to set priors for the kinematic fitting.\n\n#### 4. PSF Files\n\nLocated at: `<save_runs_path>/psfs/mpsf_*.fits`\n\nField-specific point spread function FITS files:\n- `mpsf_jw018950.gn.f444w.fits` for GOODS-N\n- `mpsf_jw035770.f356w.fits` for GOODS-N-CONGRESS  \n- `mpsf_jw018950.gs.f444w.fits` for GOODS-S-FRESCO\n\nThe code automatically selects the appropriate PSF based on the `field` parameter."
  },
  {
   "cell_type": "markdown",
   "metadata": {},
   "source": [
    "## Running the Fit\n",
    "\n",
    "Once you have prepared all required files, running the fit is straightforward:"
   ]
  },
  {
   "cell_type": "code",
   "execution_count": 1,
   "metadata": {},
   "outputs": [
    {
     "name": "stdout",
     "output_type": "stream",
     "text": [
      "Imports successful!\n"
     ]
    }
   ],
   "source": [
    "# Import required modules\n",
    "from geko.fitting import run_geko_fit\n",
    "from geko.config import FitConfiguration\n",
    "\n",
    "# JAX configuration\n",
    "import jax\n",
    "jax.config.update('jax_enable_x64', True)\n",
    "\n",
    "print(\"Imports successful!\")"
   ]
  },
  {
   "cell_type": "markdown",
   "metadata": {},
   "source": [
    "### Basic Usage"
   ]
  },
  {
   "cell_type": "code",
   "execution_count": 2,
   "metadata": {},
   "outputs": [
    {
     "name": "stdout",
     "output_type": "stream",
     "text": [
      "Cont sub done\n",
      "Flipping map! (Mod B)\n",
      "(15, 15)\n",
      "Disk model created\n",
      "Disk object created\n",
      "Rotating the prior by  0.0  radians, from  2.964  radians to  2.964  radians\n"
     ]
    },
    {
     "name": "stderr",
     "output_type": "stream",
     "text": [
      "/Users/lola/geko/geko/fitting.py:288: FutureWarning: Passing 'z' as keyword is deprecated since version 7.0 and will stop working in a future release. Pass it positionally to suppress this warning.\n",
      "  kin_model.disk.set_parametric_priors(pysersic_summary, [int_flux, int_flux_err], z_spec, wavelength, delta_wave, theta_rot = theta_rot, shape = obs_map.shape[0])\n"
     ]
    },
    {
     "name": "stdout",
     "output_type": "stream",
     "text": [
      "Setting parametric priors:  10.175309523224001 59.206811076802936 3.342 1.297 0.18970094750436658 15.165 15.0425\n",
      "MCMC settings: 1 chains, 20 samples, 5 warmup, max_tree_depth=10, target_accept=0.8\n",
      "step size:  0.001\n",
      "warmup:  5\n",
      "samples:  20\n"
     ]
    },
    {
     "name": "stderr",
     "output_type": "stream",
     "text": [
      "  0%|          | 0/25 [00:00<?, ?it/s]Exception ignored in: <bound method IPythonKernel._clean_thread_parent_frames of <ipykernel.ipkernel.IPythonKernel object at 0x110a88bd0>>\n",
      "Traceback (most recent call last):\n",
      "  File \"/Users/lola/opt_arm/anaconda3/envs/geko_env/lib/python3.11/site-packages/ipykernel/ipkernel.py\", line 775, in _clean_thread_parent_frames\n",
      "    def _clean_thread_parent_frames(\n",
      "\n",
      "KeyboardInterrupt: \n",
      "warmup:  16%|█▌        | 4/25 [00:08<00:41,  1.98s/it, 7 steps of size 2.08e-02. acc. prob=0.50]"
     ]
    }
   ],
   "source": [
    "# Define parameters\n",
    "source_id = 191250                      # Source ID in your catalog\n",
    "field = 'GOODS-S-FRESCO'                      # Field name\n",
    "output_name = 'my_galaxy'              # Name of output folder\n",
    "master_catalog = '/Users/lola/ASTRO/JWST/grism_project/testing_geko_demo/catalogs/my_galaxies_cat'  # Path to master catalog\n",
    "emission_line = 'H_alpha'                   # Emission line wavelength (Angstroms, rest frame)\n",
    "parametric = True                      # Use parametric Sersic morphology\n",
    "save_runs_path = '/Users/lola/ASTRO/JWST/grism_project/testing_geko_demo/'    # Where to save results\n",
    "\n",
    "# Optional parameters (with defaults)\n",
    "grism_filter = 'F444W'                 # Grism filter\n",
    "delta_wave_cutoff = 0.005              # Wavelength bin size (microns)\n",
    "factor = 5                             # Spatial oversampling factor\n",
    "wave_factor = 10                       # Wavelength oversampling factor\n",
    "model_name = 'Disk'                    # Kinematic model type\n",
    "\n",
    "# MCMC parameters\n",
    "num_chains = 1                       # Number of MCMC chains\n",
    "num_warmup = 5                       # Warmup iterations\n",
    "num_samples = 20                     # Sampling iterations\n",
    "\n",
    "# Run the fit (no config file needed!)\n",
    "inference_data = run_geko_fit(\n",
    "    output=output_name,\n",
    "    master_cat=master_catalog,\n",
    "    line=emission_line,\n",
    "    parametric=parametric,\n",
    "    save_runs_path=save_runs_path,\n",
    "    num_chains=num_chains,\n",
    "    num_warmup=num_warmup,\n",
    "    num_samples=num_samples,\n",
    "    source_id=source_id,               # NEW: Direct parameter\n",
    "    field=field,                        # NEW: Direct parameter\n",
    "    grism_filter=grism_filter,         # Optional\n",
    "    delta_wave_cutoff=delta_wave_cutoff,  # Optional\n",
    "    factor=factor,                      # Optional\n",
    "    wave_factor=wave_factor,            # Optional\n",
    "    model_name=model_name,              # Optional\n",
    "    config=None                         # Optional: custom configuration\n",
    ")"
   ]
  },
  {
   "cell_type": "markdown",
   "metadata": {},
   "source": [
    "### Using Custom Configuration (Optional)\n",
    "\n",
    "You can override default priors using the `FitConfiguration` class:"
   ]
  },
  {
   "cell_type": "code",
   "execution_count": null,
   "metadata": {},
   "outputs": [],
   "source": [
    "# Create custom configuration\n",
    "config = FitConfiguration()\n",
    "\n",
    "# Set custom priors for specific parameters\n",
    "config.set_prior('Va', prior_type='uniform', bounds=[50, 300])\n",
    "config.set_prior('r_t', prior_type='uniform', bounds=[0.5, 5.0])\n",
    "config.set_prior('sigma0', prior_type='uniform', bounds=[10, 150])\n",
    "\n",
    "# Print configuration summary\n",
    "config.print_summary()\n",
    "\n",
    "# Run fit with custom config\n",
    "inference_data = run_geko_fit(\n",
    "    output=output_name,\n",
    "    master_cat=master_catalog,\n",
    "    line=emission_line,\n",
    "    parametric=parametric,\n",
    "    save_runs_path=save_runs_path,\n",
    "    num_chains=num_chains,\n",
    "    num_warmup=num_warmup,\n",
    "    num_samples=num_samples,\n",
    "    config=config  # Use custom configuration\n",
    ")"
   ]
  },
  {
   "cell_type": "markdown",
   "metadata": {},
   "source": "## What Happens During the Fit\n\nThe `run_geko_fit` function automatically:\n\n1. **Preprocessing** (`run_full_preprocessing`):\n   - Loads 2D grism spectrum and error maps\n   - Loads PSF for the appropriate field\n   - Creates wavelength grid\n   - Initializes `Grism` object for dispersion modeling\n   - Initializes kinematic model (e.g., `DiskModel`)\n\n2. **Prior Setup** (if `parametric=True`):\n   - Loads PySersic morphology results from `morph_fits/` directory\n   - Extracts integrated emission line flux from master catalog\n   - Sets morphological priors (position angle, inclination, etc.) based on imaging data\n   - Applies field-specific rotation corrections to align coordinate systems\n\n3. **MCMC Sampling**:\n   - Creates `Fit_Numpyro` instance with observation data\n   - Runs NUTS (No-U-Turn Sampler) with specified chains, warmup, and samples\n   - Applies custom configuration if provided via `config` parameter\n   - Creates source mask to focus on high S/N regions\n\n4. **Postprocessing** (`process_results`):\n   - Computes best-fit kinematic model\n   - Calculates velocity at effective radius (v_re)\n   - Generates diagnostic plots and summary statistics\n   - Saves fit results and plots to output directory\n\n5. **Output**:\n   - Returns `arviz.InferenceData` object with posterior samples\n   - Saves MCMC results to `<save_runs_path>/<output_name>/<source_id>_output`\n   - Saves plots and summary tables to the same directory\n\n## Analyzing Results\n\nAfter the fit completes, you can analyze the results:"
  },
  {
   "cell_type": "code",
   "execution_count": null,
   "metadata": {},
   "outputs": [],
   "source": [
    "import arviz as az\n",
    "import matplotlib.pyplot as plt\n",
    "\n",
    "# Summary statistics\n",
    "print(az.summary(inference_data))\n",
    "\n",
    "# Trace plots\n",
    "az.plot_trace(inference_data)\n",
    "plt.tight_layout()\n",
    "plt.show()\n",
    "\n",
    "# Corner plot\n",
    "import corner\n",
    "samples = az.extract(inference_data, num_samples=1000)\n",
    "# Convert to numpy and create corner plot\n",
    "# corner.corner(samples)"
   ]
  },
  {
   "cell_type": "markdown",
   "metadata": {},
   "source": [
    "## Common Emission Lines\n",
    "\n",
    "For the `line` parameter, use rest-frame wavelengths in Angstroms:\n",
    "\n",
    "- **H-alpha**: 6562.8 Å\n",
    "- **H-beta**: 4861.3 Å  \n",
    "- **[OIII]**: 5006.8 Å\n",
    "- **[OII]**: 3727.0 Å\n",
    "\n",
    "The code will automatically calculate the observed wavelength based on the redshift in your master catalog.\n",
    "\n",
    "## Tips for Success\n",
    "\n",
    "1. **Check your data quality**: Ensure grism spectra have good S/N\n",
    "2. **Set appropriate priors**: Use photometric measurements to constrain morphology\n",
    "3. **Run sufficient samples**: Typically 1000-5000 samples after warmup\n",
    "4. **Monitor convergence**: Check R-hat values < 1.01\n",
    "5. **Validate results**: Inspect model residuals and posterior distributions"
   ]
  }
 ],
 "metadata": {
  "kernelspec": {
   "display_name": "Python 3",
   "language": "python",
   "name": "python3"
  },
  "language_info": {
   "codemirror_mode": {
    "name": "ipython",
    "version": 3
   },
   "file_extension": ".py",
   "mimetype": "text/x-python",
   "name": "python",
   "nbconvert_exporter": "python",
   "pygments_lexer": "ipython3",
   "version": "3.11.0"
  }
 },
 "nbformat": 4,
 "nbformat_minor": 4
}